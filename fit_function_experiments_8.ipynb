{
 "cells": [
  {
   "cell_type": "code",
   "execution_count": 1,
   "metadata": {},
   "outputs": [],
   "source": [
    "import numpy as np\n",
    "import pandas as pd\n",
    "import matplotlib.pyplot as plt\n",
    "import seaborn as sns\n",
    "\n",
    "import plotly.express as px\n",
    "import plotly.graph_objects as go\n",
    "\n",
    "from scipy import signal\n",
    "from scipy.optimize import curve_fit\n",
    "from scipy import stats\n",
    "from numpy.polynomial.polynomial import polyval\n",
    "\n",
    "%matplotlib inline\n",
    "plt.style.use('seaborn')"
   ]
  },
  {
   "cell_type": "markdown",
   "metadata": {},
   "source": [
    "## Functions\n",
    "\n",
    "These functions are used to do the fitting of the wavelengths from the soil spectra measured with the NIRone spectrometer.  The parameters and form of the equation were modeled by David using Igor Pro.\n",
    "\n",
    "The functions presuppose that the parameters for the equation are in np.arrays.  In the functions that follow, the fixed parameters are read from .csv to  variable `fixed_params`, which the functions depend on being in memory.  I did that to make it easier to change the functions later.  Eventually this should be changed so that the functions run independently.\n",
    "\n",
    "In this version I have split up the `model_fit()` function to only do the model fitting. New functions are included to create the `farray`, `f_sd_err`, and `high_f1` arrays."
   ]
  },
  {
   "cell_type": "code",
   "execution_count": 2,
   "metadata": {},
   "outputs": [],
   "source": [
    "def poly4(x, x0, p):\n",
    "    '''\n",
    "    calculates the polynomial portion of the spectral fits.\n",
    "    x is the input data.    \n",
    "    x0 is the x offset.\n",
    "    p is an np.array containing c0, c1, c2, c3, and c4, in that order.\n",
    "    '''\n",
    "    w = x - x0\n",
    "    return p[0] + (p[1] * w) + (p[2] * w**2) + (p[3] * w ** 3) + (p[4] * w ** 4)\n",
    "\n",
    "def gauss_peak(x, p):\n",
    "    '''\n",
    "    Calculates the Gaussian peak portion of the spectral fits.\n",
    "    x is the input data.\n",
    "    p is np.array containing y0, A, x0, and width, in that order.\n",
    "    '''\n",
    "    return p[0] + p[1] * np.exp(-(((x - p[2])/p[3])**2))\n",
    "\n",
    "def w_calc(x, p1, p2, w):\n",
    "    '''\n",
    "    Calculates the water peak (either w1 or w2) portions of the spectral fits.\n",
    "    x is the input data.    \n",
    "    p1 and p2 are np.arrays containing the y offset, amplitude, x offset, and width.\n",
    "    w is the multiplier w1 or w2.\n",
    "    '''\n",
    "    peak1 = gauss_peak(x, p1)\n",
    "    peak2 = gauss_peak(x, p2)\n",
    "    return w * (peak1 + peak2)\n",
    "\n",
    "def m_calc(x, p1, m):\n",
    "    '''\n",
    "    Calculates the m1 portion of the spectral fits.\n",
    "    x is the input data\n",
    "    p1 is an np.array containing the y offset, amplitude, x offset, and width.\n",
    "    m is the multiplier m1.\n",
    "    '''\n",
    "    return m * gauss_peak(x, p1)\n",
    "\n",
    "\n",
    "def f_calc(x, p1, p2, p3, f):\n",
    "    '''\n",
    "    Calculates the f1 portion of the spectral fits.\n",
    "    x is the input data.\n",
    "    p1, p2, and p3 are np.arrays containing the y offset, amplitude, x offset, and width.\n",
    "    f is the multiplier f1.\n",
    "    '''\n",
    "    peak1 = gauss_peak(x, p1)\n",
    "    peak2 = gauss_peak(x, p2)\n",
    "    peak3 = gauss_peak(x, p3)\n",
    "    return f * (peak1 + peak2 + peak3)\n",
    "\n",
    "def spec_calc(x, mp, fp):\n",
    "    '''\n",
    "    Calculates and sums the sub-portions of the spectral fits.\n",
    "    x is the input data.\n",
    "    mp is an np.array containing the modeled parameters (c0 through f1).\n",
    "    fp is an np.array containing the fixed parameters from the fit equation.\n",
    "    '''\n",
    "    cp = mp[0:5]\n",
    "    c = poly4(x, fp[0], cp)\n",
    "    w1p = mp[5]\n",
    "    w1 = w_calc(x, fp[1:5], fp[5:9], w1p)\n",
    "    w2p = mp[6]\n",
    "    w2 = w_calc(x, fp[9:13], fp[13:17], w2p)\n",
    "    m1p = mp[7]\n",
    "    m1 = m_calc(x, fp[17:21], m1p)\n",
    "    f1p = mp[8]\n",
    "    f1 = f_calc(x, fp[21:25], fp[25:29], fp[29:], f1p)\n",
    "    return c + w1 + w2 + m1 + f1\n",
    "\n",
    "def spec_fit(x, c0, c1, c2, c3, c4, w1, w2, m1, f1):\n",
    "    '''\n",
    "    This is used as the function in the curve fit process.\n",
    "    Note that this presupposes the fixed parameter data frame, which must be \n",
    "    named fixed_params and must already exist before this can be run.\n",
    "    '''\n",
    "    fp = fixed_params\n",
    "    mp = np.array([c0, c1, c2, c3, c4, w1, w2, m1, f1])\n",
    "    return spec_calc(x, mp, fp)\n",
    "\n",
    "def model_fit(df, wave_array):\n",
    "    '''\n",
    "    Performs spec_fit function on the input spectra.\n",
    "    \n",
    "    Input parameters:\n",
    "    df is dataframe containing only the spectra, without extraneous columns\n",
    "    wave_array is np.array containing the wavelengths of spectra\n",
    "    \n",
    "    Return values:\n",
    "    modelparams is np.array of parameters output from curve_fit\n",
    "    modelcovar is np.array of covariance array output from curve_fit\n",
    "    modeled_spectra is np.array of the modeled spectra using the curve_fit parameters\n",
    "    residual_spectra is np.array of the original spectrum - the modeled spectrum\n",
    "    \n",
    "    '''\n",
    "    number = df.shape[0]\n",
    "    modelparams = np.empty((number, 9), dtype = float)\n",
    "    modelcovar = np.empty((number, 9, 9), dtype = float)\n",
    "    modeled_spectra = np.empty((number,wave_array.shape[0]), dtype = float)\n",
    "    residual_spectra = np.empty((number, wave_array.shape[0]), dtype = float)\n",
    "    for i in range(number):\n",
    "        row = df.iloc[i, :]\n",
    "        modeled, pcov = curve_fit(spec_fit, wave_array, row)\n",
    "        modelparams[i, :] = modeled\n",
    "        modelcovar[i, ::] = pcov\n",
    "        modeled_spectra[i, :] = spec_calc(wave_array, modeled, fixed_params)\n",
    "        residual_spectra[i, :] = row - modeled_spectra[i, :]\n",
    "    return modelparams, modelcovar, modeled_spectra, residual_spectra\n",
    "\n",
    "def extract_farray(modelparams):\n",
    "    '''\n",
    "    Convenience function to create an np.array containing only the f1 values\n",
    "    \n",
    "    Input:  the modelparams np.array created by model_fit().\n",
    "    '''\n",
    "    return modelparams[:, 8]\n",
    "\n",
    "def extract_f_sd_err(modelcovar):\n",
    "    '''\n",
    "    Convenience function to create an np.array containing the standard deviation\n",
    "       of the covariance matrix for the f1 term.\n",
    "       \n",
    "    Input:  the modelcovar np.array created by model_fit().\n",
    "   \n",
    "    '''\n",
    "    f_sd_err = np.empty(modelcovar.shape[0])\n",
    "    for i in range(modelcovar.shape[0]):\n",
    "        f_sd_err[i] = np.diag(modelcovar[i, :, :])[8]\n",
    "    return f_sd_err\n",
    "\n",
    "def high_f1_numbers(farray, threshold):\n",
    "    '''\n",
    "    Returns np.array of the index positions of spectra with f1 values greater than the\n",
    "       threshold.  Use this with iloc to find the appropriate rows in the dataframe.\n",
    "       \n",
    "    Input:  np.array output from extract_farray() and desired threshold value.\n",
    "    '''\n",
    "    return np.where(farray > threshold)[0]\n",
    "    \n",
    "\n"
   ]
  },
  {
   "cell_type": "markdown",
   "metadata": {},
   "source": [
    "## Read the parameters and data from csv files.\n",
    "\n",
    "Also establish some wavelength value arrays."
   ]
  },
  {
   "cell_type": "code",
   "execution_count": 101,
   "metadata": {},
   "outputs": [],
   "source": [
    "model_param_df = pd.read_csv('Fit function data.csv', index_col = 'spectrum')\n",
    "fixed_params = np.loadtxt('fit_function_equation_parameters.csv', delimiter = ',')\n",
    "nirone = pd.read_csv('NIRONE_TEST.csv', index_col = 'name')\n",
    "nir_waves = np.arange(1550, 1955, 5)\n",
    "spec_csv = 'lucas_spec_smaller.csv'\n",
    "spec = pd.read_csv(spec_csv)\n",
    "lucas_nir = spec.loc[:, 'spc.1550':'spc.1950']\n",
    "lucas_waves = np.arange(1550.0, 1950.5, 0.5)\n",
    "waves_17_18 = np.arange(1700.0, 1800.5, 0.5)\n",
    "waves_19_1950 = np.arange(1900.0, 1950.5, 0.5)"
   ]
  },
  {
   "cell_type": "markdown",
   "metadata": {},
   "source": [
    "## Apply the fit function to LUCAS spectra\n",
    "\n",
    "First I run `model_fit()` to fit the spectra.\n",
    "From that output I determine the `farray` and `high_f1`.  I am using 0.006 as the threshold for a high fatty acid peak value for now."
   ]
  },
  {
   "cell_type": "code",
   "execution_count": 4,
   "metadata": {},
   "outputs": [],
   "source": [
    "modelparams, modelcovar, modeled_spectra, residual_spectra = model_fit(lucas_nir, lucas_waves)"
   ]
  },
  {
   "cell_type": "code",
   "execution_count": 5,
   "metadata": {},
   "outputs": [],
   "source": [
    "farray = extract_farray(modelparams)"
   ]
  },
  {
   "cell_type": "code",
   "execution_count": 6,
   "metadata": {},
   "outputs": [],
   "source": [
    "high_f1 = high_f1_numbers(farray, 0.006)"
   ]
  },
  {
   "cell_type": "code",
   "execution_count": 7,
   "metadata": {},
   "outputs": [
    {
     "data": {
      "text/html": [
       "<div>\n",
       "<style scoped>\n",
       "    .dataframe tbody tr th:only-of-type {\n",
       "        vertical-align: middle;\n",
       "    }\n",
       "\n",
       "    .dataframe tbody tr th {\n",
       "        vertical-align: top;\n",
       "    }\n",
       "\n",
       "    .dataframe thead th {\n",
       "        text-align: right;\n",
       "    }\n",
       "</style>\n",
       "<table border=\"1\" class=\"dataframe\">\n",
       "  <thead>\n",
       "    <tr style=\"text-align: right;\">\n",
       "      <th></th>\n",
       "      <th>spc.1550</th>\n",
       "      <th>spc.1550.5</th>\n",
       "      <th>spc.1551</th>\n",
       "      <th>spc.1551.5</th>\n",
       "    </tr>\n",
       "  </thead>\n",
       "  <tbody>\n",
       "    <tr>\n",
       "      <th>3149</th>\n",
       "      <td>0.303594</td>\n",
       "      <td>0.303310</td>\n",
       "      <td>0.303028</td>\n",
       "      <td>0.302748</td>\n",
       "    </tr>\n",
       "    <tr>\n",
       "      <th>3182</th>\n",
       "      <td>0.282933</td>\n",
       "      <td>0.282546</td>\n",
       "      <td>0.282162</td>\n",
       "      <td>0.281782</td>\n",
       "    </tr>\n",
       "    <tr>\n",
       "      <th>3185</th>\n",
       "      <td>0.273899</td>\n",
       "      <td>0.273717</td>\n",
       "      <td>0.273536</td>\n",
       "      <td>0.273357</td>\n",
       "    </tr>\n",
       "    <tr>\n",
       "      <th>3193</th>\n",
       "      <td>0.321418</td>\n",
       "      <td>0.321123</td>\n",
       "      <td>0.320830</td>\n",
       "      <td>0.320541</td>\n",
       "    </tr>\n",
       "    <tr>\n",
       "      <th>3201</th>\n",
       "      <td>0.347535</td>\n",
       "      <td>0.347246</td>\n",
       "      <td>0.346960</td>\n",
       "      <td>0.346677</td>\n",
       "    </tr>\n",
       "    <tr>\n",
       "      <th>...</th>\n",
       "      <td>...</td>\n",
       "      <td>...</td>\n",
       "      <td>...</td>\n",
       "      <td>...</td>\n",
       "    </tr>\n",
       "    <tr>\n",
       "      <th>17231</th>\n",
       "      <td>0.385157</td>\n",
       "      <td>0.385060</td>\n",
       "      <td>0.384965</td>\n",
       "      <td>0.384870</td>\n",
       "    </tr>\n",
       "    <tr>\n",
       "      <th>18498</th>\n",
       "      <td>0.206601</td>\n",
       "      <td>0.206129</td>\n",
       "      <td>0.205660</td>\n",
       "      <td>0.205197</td>\n",
       "    </tr>\n",
       "    <tr>\n",
       "      <th>18516</th>\n",
       "      <td>0.251501</td>\n",
       "      <td>0.251084</td>\n",
       "      <td>0.250671</td>\n",
       "      <td>0.250261</td>\n",
       "    </tr>\n",
       "    <tr>\n",
       "      <th>18539</th>\n",
       "      <td>0.212437</td>\n",
       "      <td>0.212078</td>\n",
       "      <td>0.211722</td>\n",
       "      <td>0.211370</td>\n",
       "    </tr>\n",
       "    <tr>\n",
       "      <th>18785</th>\n",
       "      <td>0.436885</td>\n",
       "      <td>0.436833</td>\n",
       "      <td>0.436781</td>\n",
       "      <td>0.436728</td>\n",
       "    </tr>\n",
       "  </tbody>\n",
       "</table>\n",
       "<p>180 rows × 4 columns</p>\n",
       "</div>"
      ],
      "text/plain": [
       "       spc.1550  spc.1550.5  spc.1551  spc.1551.5\n",
       "3149   0.303594    0.303310  0.303028    0.302748\n",
       "3182   0.282933    0.282546  0.282162    0.281782\n",
       "3185   0.273899    0.273717  0.273536    0.273357\n",
       "3193   0.321418    0.321123  0.320830    0.320541\n",
       "3201   0.347535    0.347246  0.346960    0.346677\n",
       "...         ...         ...       ...         ...\n",
       "17231  0.385157    0.385060  0.384965    0.384870\n",
       "18498  0.206601    0.206129  0.205660    0.205197\n",
       "18516  0.251501    0.251084  0.250671    0.250261\n",
       "18539  0.212437    0.212078  0.211722    0.211370\n",
       "18785  0.436885    0.436833  0.436781    0.436728\n",
       "\n",
       "[180 rows x 4 columns]"
      ]
     },
     "execution_count": 7,
     "metadata": {},
     "output_type": "execute_result"
    }
   ],
   "source": [
    "lucas_nir.iloc[high_f1, 0:4]"
   ]
  },
  {
   "cell_type": "code",
   "execution_count": 8,
   "metadata": {},
   "outputs": [
    {
     "data": {
      "text/plain": [
       "(180, 801)"
      ]
     },
     "execution_count": 8,
     "metadata": {},
     "output_type": "execute_result"
    }
   ],
   "source": [
    "modeled_spectra[high_f1].shape"
   ]
  },
  {
   "cell_type": "markdown",
   "metadata": {},
   "source": [
    "## Visualize the distribution of the f1 values"
   ]
  },
  {
   "cell_type": "code",
   "execution_count": 9,
   "metadata": {},
   "outputs": [],
   "source": [
    "f_series = pd.Series(farray)"
   ]
  },
  {
   "cell_type": "code",
   "execution_count": 10,
   "metadata": {},
   "outputs": [
    {
     "data": {
      "text/plain": [
       "count    19010.000000\n",
       "mean        -0.000227\n",
       "std          0.002113\n",
       "min         -0.007549\n",
       "25%         -0.001058\n",
       "50%         -0.000314\n",
       "75%          0.000344\n",
       "max          0.059853\n",
       "dtype: float64"
      ]
     },
     "execution_count": 10,
     "metadata": {},
     "output_type": "execute_result"
    }
   ],
   "source": [
    "f_series.describe()"
   ]
  },
  {
   "cell_type": "code",
   "execution_count": 11,
   "metadata": {},
   "outputs": [
    {
     "data": {
      "image/png": "[encoded data removed]",
      "text/plain": [
       "<Figure size 576x396 with 1 Axes>"
      ]
     },
     "metadata": {},
     "output_type": "display_data"
    }
   ],
   "source": [
    "sns.distplot(farray, kde = False);"
   ]
  },
  {
   "cell_type": "code",
   "execution_count": 12,
   "metadata": {},
   "outputs": [
    {
     "data": {
      "image/png": "[encoded data removed]",
      "text/plain": [
       "<Figure size 576x396 with 1 Axes>"
      ]
     },
     "metadata": {},
     "output_type": "display_data"
    }
   ],
   "source": [
    "sns.distplot(spec['OC'], kde = False);"
   ]
  },
  {
   "cell_type": "code",
   "execution_count": 13,
   "metadata": {},
   "outputs": [
    {
     "data": {
      "image/png": "[encoded data removed]",
      "text/plain": [
       "<Figure size 432x432 with 3 Axes>"
      ]
     },
     "metadata": {},
     "output_type": "display_data"
    }
   ],
   "source": [
    "sns.jointplot(x = farray, y = spec['OC']);"
   ]
  },
  {
   "cell_type": "code",
   "execution_count": 14,
   "metadata": {},
   "outputs": [
    {
     "data": {
      "image/png": "[encoded data removed]",
      "text/plain": [
       "<Figure size 432x432 with 3 Axes>"
      ]
     },
     "metadata": {},
     "output_type": "display_data"
    }
   ],
   "source": [
    "sns.jointplot(x = farray, y = spec['OC'], kind = 'kde');"
   ]
  },
  {
   "cell_type": "code",
   "execution_count": 15,
   "metadata": {},
   "outputs": [
    {
     "data": {
      "image/png": "[encoded data removed]",
      "text/plain": [
       "<Figure size 576x396 with 1 Axes>"
      ]
     },
     "metadata": {},
     "output_type": "display_data"
    }
   ],
   "source": [
    "sns.distplot(farray[high_f1], kde = False, bins = 50);"
   ]
  },
  {
   "cell_type": "code",
   "execution_count": 16,
   "metadata": {},
   "outputs": [
    {
     "data": {
      "image/png": "[encoded data removed]",
      "text/plain": [
       "<Figure size 576x396 with 1 Axes>"
      ]
     },
     "metadata": {},
     "output_type": "display_data"
    }
   ],
   "source": [
    "oc = spec.columns.get_loc('OC')\n",
    "sns.distplot(spec.iloc[high_f1, oc], kde = False, bins = 50);"
   ]
  },
  {
   "cell_type": "code",
   "execution_count": 17,
   "metadata": {},
   "outputs": [
    {
     "data": {
      "image/png": "[encoded data removed]",
      "text/plain": [
       "<Figure size 432x432 with 3 Axes>"
      ]
     },
     "metadata": {},
     "output_type": "display_data"
    }
   ],
   "source": [
    "sns.jointplot(x = farray[high_f1], y = spec.iloc[high_f1, oc]);"
   ]
  },
  {
   "cell_type": "code",
   "execution_count": 18,
   "metadata": {},
   "outputs": [
    {
     "data": {
      "image/png": "[encoded data removed]",
      "text/plain": [
       "<Figure size 432x432 with 3 Axes>"
      ]
     },
     "metadata": {},
     "output_type": "display_data"
    }
   ],
   "source": [
    "sns.jointplot(x = farray[high_f1], y = spec.iloc[high_f1, oc], kind = 'kde');"
   ]
  },
  {
   "cell_type": "code",
   "execution_count": 19,
   "metadata": {},
   "outputs": [],
   "source": [
    "lowOC_highf1 = spec.loc[(spec['OC'] < 50) & (farray > 0.002)]"
   ]
  },
  {
   "cell_type": "code",
   "execution_count": 20,
   "metadata": {},
   "outputs": [
    {
     "data": {
      "text/plain": [
       "<matplotlib.axes._subplots.AxesSubplot at 0x7f7fa778bfa0>"
      ]
     },
     "execution_count": 20,
     "metadata": {},
     "output_type": "execute_result"
    },
    {
     "data": {
      "image/png": "[encoded data removed]",
      "text/plain": [
       "<Figure size 576x396 with 1 Axes>"
      ]
     },
     "metadata": {},
     "output_type": "display_data"
    }
   ],
   "source": [
    "sns.distplot(lowOC_highf1['OC'], kde = False, bins = 50)"
   ]
  },
  {
   "cell_type": "code",
   "execution_count": 21,
   "metadata": {},
   "outputs": [
    {
     "data": {
      "text/plain": [
       "<matplotlib.axes._subplots.AxesSubplot at 0x7f7fa570f1f0>"
      ]
     },
     "execution_count": 21,
     "metadata": {},
     "output_type": "execute_result"
    },
    {
     "data": {
      "image/png": "[encoded data removed]",
      "text/plain": [
       "<Figure size 576x396 with 1 Axes>"
      ]
     },
     "metadata": {},
     "output_type": "display_data"
    }
   ],
   "source": [
    "sns.distplot(farray[(spec['OC'] < 50) & (farray > 0.002)], kde = False, bins = 100)"
   ]
  },
  {
   "cell_type": "code",
   "execution_count": 22,
   "metadata": {},
   "outputs": [
    {
     "data": {
      "image/png": "[encoded data removed]",
      "text/plain": [
       "<Figure size 432x432 with 3 Axes>"
      ]
     },
     "metadata": {},
     "output_type": "display_data"
    }
   ],
   "source": [
    "sns.jointplot(x = farray[(spec['OC'] < 50) & (farray > 0.002)], y = lowOC_highf1['OC'], kind = 'kde');"
   ]
  },
  {
   "cell_type": "code",
   "execution_count": 23,
   "metadata": {},
   "outputs": [
    {
     "data": {
      "text/plain": [
       "<matplotlib.axes._subplots.AxesSubplot at 0x7f7fab1db5b0>"
      ]
     },
     "execution_count": 23,
     "metadata": {},
     "output_type": "execute_result"
    },
    {
     "data": {
      "image/png": "[encoded data removed]",
      "text/plain": [
       "<Figure size 576x396 with 1 Axes>"
      ]
     },
     "metadata": {},
     "output_type": "display_data"
    }
   ],
   "source": [
    "sns.distplot(farray[spec['OC']> 100], kde = False)"
   ]
  },
  {
   "cell_type": "code",
   "execution_count": 24,
   "metadata": {},
   "outputs": [
    {
     "data": {
      "image/png": "[encoded data removed]",
      "text/plain": [
       "<Figure size 432x432 with 3 Axes>"
      ]
     },
     "metadata": {},
     "output_type": "display_data"
    }
   ],
   "source": [
    "sns.jointplot(x = farray[spec['OC']> 100], y = spec.loc[spec['OC'] > 100]['OC'], kind = 'kde');"
   ]
  },
  {
   "cell_type": "markdown",
   "metadata": {},
   "source": [
    "## Find spectra to use as examples\n",
    "\n",
    "First I wanted to find an example of a spectrum which has a negative f1 value.  I therefore looked for the spectrum with the smallest f1 value.  Needed to take the first of the array because I needed it as a float, not as an array.\n",
    "\n",
    "The spectrum chosen was number 12094."
   ]
  },
  {
   "cell_type": "code",
   "execution_count": 35,
   "metadata": {},
   "outputs": [],
   "source": [
    "min_loc = f_series.loc[f_series == f_series.min()].index.values[0]"
   ]
  },
  {
   "cell_type": "code",
   "execution_count": 60,
   "metadata": {},
   "outputs": [],
   "source": [
    "f1_min_spec = lucas_nir.loc[lucas_nir.index == min_loc]\n",
    "f1_min_modeled = modeled_spectra[min_loc]\n",
    "spc1700 = lucas_nir.columns.get_loc('spc.1700')\n",
    "spc1800 = lucas_nir.columns.get_loc('spc.1800')\n",
    "spc1900 = lucas_nir.columns.get_loc('spc.1900')\n",
    "spc1950 = lucas_nir.columns.get_loc('spc.1950')"
   ]
  },
  {
   "cell_type": "markdown",
   "metadata": {},
   "source": [
    "Plot of spectrum 12094."
   ]
  },
  {
   "cell_type": "code",
   "execution_count": 174,
   "metadata": {},
   "outputs": [
    {
     "data": {
      "image/png": "[encoded data removed]",
      "text/plain": [
       "<Figure size 576x396 with 1 Axes>"
      ]
     },
     "metadata": {},
     "output_type": "display_data"
    }
   ],
   "source": [
    "plt.plot(lucas_waves, f1_min_spec.iloc[0, :])\n",
    "plt.plot(lucas_waves, f1_min_modeled);"
   ]
  },
  {
   "cell_type": "code",
   "execution_count": 173,
   "metadata": {},
   "outputs": [
    {
     "data": {
      "image/png": "[encoded data removed]",
      "text/plain": [
       "<Figure size 576x396 with 1 Axes>"
      ]
     },
     "metadata": {},
     "output_type": "display_data"
    }
   ],
   "source": [
    "\n",
    "plt.plot(waves_17_18, f1_min_spec.loc[min_loc, 'spc.1700':'spc.1800'])\n",
    "plt.plot(waves_17_18, f1_min_modeled[spc1700:spc1800+1]);"
   ]
  },
  {
   "cell_type": "code",
   "execution_count": 58,
   "metadata": {},
   "outputs": [],
   "source": [
    "example_spec_list = [min_loc]"
   ]
  },
  {
   "cell_type": "code",
   "execution_count": 59,
   "metadata": {},
   "outputs": [
    {
     "data": {
      "text/plain": [
       "[12094]"
      ]
     },
     "execution_count": 59,
     "metadata": {},
     "output_type": "execute_result"
    }
   ],
   "source": [
    "example_spec_list"
   ]
  },
  {
   "cell_type": "markdown",
   "metadata": {},
   "source": [
    "## Next spectrum\n",
    "\n",
    "Here I wanted to find spectra that the model didn't work well in the water region, so I looked for spectra that had large residuals between 1900 and 1950 nm."
   ]
  },
  {
   "cell_type": "code",
   "execution_count": 75,
   "metadata": {},
   "outputs": [],
   "source": [
    "spc1900_1950_col_names = lucas_nir.loc[:, 'spc.1900':'spc.1950'].columns.values\n",
    "spec_rows = spec.index.values\n",
    "water_resid = pd.DataFrame(residual_spectra[:, spc1900:spc1950+1], index = spec_rows, columns = spc1900_1950_col_names)"
   ]
  },
  {
   "cell_type": "code",
   "execution_count": 76,
   "metadata": {},
   "outputs": [
    {
     "data": {
      "text/plain": [
       "(19010, 101)"
      ]
     },
     "execution_count": 76,
     "metadata": {},
     "output_type": "execute_result"
    }
   ],
   "source": [
    "water_resid.shape"
   ]
  },
  {
   "cell_type": "code",
   "execution_count": 77,
   "metadata": {},
   "outputs": [
    {
     "data": {
      "text/plain": [
       "(19010,)"
      ]
     },
     "execution_count": 77,
     "metadata": {},
     "output_type": "execute_result"
    }
   ],
   "source": [
    "water_resid.max(axis = 1).shape"
   ]
  },
  {
   "cell_type": "markdown",
   "metadata": {},
   "source": [
    "This shows the distribution of the largest residual for each spectrum between 1900 and 1950."
   ]
  },
  {
   "cell_type": "code",
   "execution_count": 78,
   "metadata": {},
   "outputs": [],
   "source": [
    "water_resid_max = water_resid.max(axis = 1)"
   ]
  },
  {
   "cell_type": "code",
   "execution_count": 79,
   "metadata": {},
   "outputs": [
    {
     "data": {
      "image/png": "[encoded data removed]",
      "text/plain": [
       "<Figure size 576x396 with 1 Axes>"
      ]
     },
     "metadata": {},
     "output_type": "display_data"
    }
   ],
   "source": [
    "sns.distplot(water_resid_max, kde = False);"
   ]
  },
  {
   "cell_type": "markdown",
   "metadata": {},
   "source": [
    "In most cases, the position of the largest residual in the spectrum was at 1950 nm.  "
   ]
  },
  {
   "cell_type": "code",
   "execution_count": 81,
   "metadata": {},
   "outputs": [
    {
     "data": {
      "text/plain": [
       "0        spc.1950\n",
       "1        spc.1950\n",
       "2        spc.1950\n",
       "3        spc.1950\n",
       "4        spc.1950\n",
       "           ...   \n",
       "19005    spc.1950\n",
       "19006    spc.1950\n",
       "19007    spc.1950\n",
       "19008    spc.1950\n",
       "19009    spc.1950\n",
       "Length: 19010, dtype: object"
      ]
     },
     "execution_count": 81,
     "metadata": {},
     "output_type": "execute_result"
    }
   ],
   "source": [
    "water_resid.idxmax(axis = 1)"
   ]
  },
  {
   "cell_type": "code",
   "execution_count": 82,
   "metadata": {},
   "outputs": [],
   "source": [
    "water_resid_array = residual_spectra[:, spc1900:spc1950+1]"
   ]
  },
  {
   "cell_type": "code",
   "execution_count": 87,
   "metadata": {},
   "outputs": [],
   "source": [
    "water_resid_position = np.argmax(water_resid_array, axis = 1)"
   ]
  },
  {
   "cell_type": "code",
   "execution_count": 175,
   "metadata": {},
   "outputs": [
    {
     "data": {
      "image/png": "[encoded data removed]",
      "text/plain": [
       "<Figure size 576x396 with 1 Axes>"
      ]
     },
     "metadata": {},
     "output_type": "display_data"
    }
   ],
   "source": [
    "sns.distplot(water_resid_position, kde = False);"
   ]
  },
  {
   "cell_type": "code",
   "execution_count": 89,
   "metadata": {},
   "outputs": [
    {
     "data": {
      "text/plain": [
       "array([22, 23, 60, 64, 59, 60, 61, 11, 63, 11, 23, 17, 76, 21, 20, 12, 14,\n",
       "       13, 59, 22, 59, 20, 20, 24, 16, 12, 22, 10, 14, 61, 14, 11, 10, 74,\n",
       "        8, 73, 73, 73, 12, 14, 13, 77,  8, 74, 11, 11, 75, 15, 74, 73, 73,\n",
       "       73, 13, 73, 73, 77, 72, 72, 73, 74, 74, 75, 73, 73, 74, 73, 11,  9,\n",
       "       75, 14, 12, 60, 73, 60, 13, 76, 73, 75, 76, 13, 11, 75, 12, 12, 13,\n",
       "       73, 15, 12, 10, 74, 78, 73, 15, 74, 12, 74, 73, 74, 73, 75, 77, 76,\n",
       "       10, 17, 75, 13, 14, 10, 12, 16, 60, 70, 19, 23, 72, 72, 74, 17, 22,\n",
       "       60, 60,  0, 59, 60, 61, 60, 60, 23,  2, 60, 60, 60, 60, 60, 60, 60,\n",
       "       17, 20, 18, 17, 12, 14, 20, 19, 19, 17, 61, 11, 22, 20, 16, 75, 13,\n",
       "       74, 12, 19, 14, 13, 12, 19,  8,  7, 23, 20, 15, 11, 12, 12, 13, 66,\n",
       "       13, 13, 62, 17, 14, 60, 59, 16, 66, 12, 14, 62, 10, 11, 60, 60, 20,\n",
       "       59, 58, 61, 59, 60, 59,  4, 58, 13, 18, 13, 22, 14, 22, 14, 61, 11,\n",
       "       73, 74, 75, 10, 11, 11, 22, 12])"
      ]
     },
     "execution_count": 89,
     "metadata": {},
     "output_type": "execute_result"
    }
   ],
   "source": [
    "water_resid_position[water_resid_position != 100]"
   ]
  },
  {
   "cell_type": "markdown",
   "metadata": {},
   "source": [
    "This shows the distribution (by column beyond 1900 nm) of the maximum residual for those spectra where the position was not 1950 nm."
   ]
  },
  {
   "cell_type": "code",
   "execution_count": 176,
   "metadata": {},
   "outputs": [
    {
     "data": {
      "image/png": "[encoded data removed]",
      "text/plain": [
       "<Figure size 576x396 with 1 Axes>"
      ]
     },
     "metadata": {},
     "output_type": "display_data"
    }
   ],
   "source": [
    "sns.distplot(water_resid_position[water_resid_position != 100], kde = False, bins = 20);"
   ]
  },
  {
   "cell_type": "code",
   "execution_count": 98,
   "metadata": {},
   "outputs": [
    {
     "data": {
      "text/plain": [
       "spc.1900      4200\n",
       "spc.1900.5    4200\n",
       "spc.1901      4200\n",
       "spc.1901.5    4200\n",
       "spc.1902      4200\n",
       "              ... \n",
       "spc.1948      4148\n",
       "spc.1948.5    4148\n",
       "spc.1949      4148\n",
       "spc.1949.5    4148\n",
       "spc.1950      4148\n",
       "Length: 101, dtype: int64"
      ]
     },
     "execution_count": 98,
     "metadata": {},
     "output_type": "execute_result"
    }
   ],
   "source": [
    "water_resid.idxmax()"
   ]
  },
  {
   "cell_type": "code",
   "execution_count": 97,
   "metadata": {},
   "outputs": [
    {
     "data": {
      "text/html": [
       "<div>\n",
       "<style scoped>\n",
       "    .dataframe tbody tr th:only-of-type {\n",
       "        vertical-align: middle;\n",
       "    }\n",
       "\n",
       "    .dataframe tbody tr th {\n",
       "        vertical-align: top;\n",
       "    }\n",
       "\n",
       "    .dataframe thead th {\n",
       "        text-align: right;\n",
       "    }\n",
       "</style>\n",
       "<table border=\"1\" class=\"dataframe\">\n",
       "  <thead>\n",
       "    <tr style=\"text-align: right;\">\n",
       "      <th></th>\n",
       "      <th>spc.1900</th>\n",
       "      <th>spc.1900.5</th>\n",
       "      <th>spc.1901</th>\n",
       "      <th>spc.1901.5</th>\n",
       "      <th>spc.1902</th>\n",
       "      <th>spc.1902.5</th>\n",
       "      <th>spc.1903</th>\n",
       "      <th>spc.1903.5</th>\n",
       "      <th>spc.1904</th>\n",
       "      <th>spc.1904.5</th>\n",
       "      <th>...</th>\n",
       "      <th>spc.1945.5</th>\n",
       "      <th>spc.1946</th>\n",
       "      <th>spc.1946.5</th>\n",
       "      <th>spc.1947</th>\n",
       "      <th>spc.1947.5</th>\n",
       "      <th>spc.1948</th>\n",
       "      <th>spc.1948.5</th>\n",
       "      <th>spc.1949</th>\n",
       "      <th>spc.1949.5</th>\n",
       "      <th>spc.1950</th>\n",
       "    </tr>\n",
       "  </thead>\n",
       "  <tbody>\n",
       "  </tbody>\n",
       "</table>\n",
       "<p>0 rows × 101 columns</p>\n",
       "</div>"
      ],
      "text/plain": [
       "Empty DataFrame\n",
       "Columns: [spc.1900, spc.1900.5, spc.1901, spc.1901.5, spc.1902, spc.1902.5, spc.1903, spc.1903.5, spc.1904, spc.1904.5, spc.1905, spc.1905.5, spc.1906, spc.1906.5, spc.1907, spc.1907.5, spc.1908, spc.1908.5, spc.1909, spc.1909.5, spc.1910, spc.1910.5, spc.1911, spc.1911.5, spc.1912, spc.1912.5, spc.1913, spc.1913.5, spc.1914, spc.1914.5, spc.1915, spc.1915.5, spc.1916, spc.1916.5, spc.1917, spc.1917.5, spc.1918, spc.1918.5, spc.1919, spc.1919.5, spc.1920, spc.1920.5, spc.1921, spc.1921.5, spc.1922, spc.1922.5, spc.1923, spc.1923.5, spc.1924, spc.1924.5, spc.1925, spc.1925.5, spc.1926, spc.1926.5, spc.1927, spc.1927.5, spc.1928, spc.1928.5, spc.1929, spc.1929.5, spc.1930, spc.1930.5, spc.1931, spc.1931.5, spc.1932, spc.1932.5, spc.1933, spc.1933.5, spc.1934, spc.1934.5, spc.1935, spc.1935.5, spc.1936, spc.1936.5, spc.1937, spc.1937.5, spc.1938, spc.1938.5, spc.1939, spc.1939.5, spc.1940, spc.1940.5, spc.1941, spc.1941.5, spc.1942, spc.1942.5, spc.1943, spc.1943.5, spc.1944, spc.1944.5, spc.1945, spc.1945.5, spc.1946, spc.1946.5, spc.1947, spc.1947.5, spc.1948, spc.1948.5, spc.1949, spc.1949.5, ...]\n",
       "Index: []\n",
       "\n",
       "[0 rows x 101 columns]"
      ]
     },
     "execution_count": 97,
     "metadata": {},
     "output_type": "execute_result"
    }
   ],
   "source": [
    "water_resid.loc[water_resid['spc.1900'] == water_resid.max().max()]"
   ]
  },
  {
   "cell_type": "markdown",
   "metadata": {},
   "source": [
    "Spectrum 4148 is one I had identified earlier as not fitting well in the water peak region."
   ]
  },
  {
   "cell_type": "code",
   "execution_count": 99,
   "metadata": {},
   "outputs": [
    {
     "data": {
      "text/plain": [
       "spc.1900      0.017978\n",
       "spc.1900.5    0.019596\n",
       "spc.1901      0.021121\n",
       "spc.1901.5    0.022537\n",
       "spc.1902      0.023832\n",
       "                ...   \n",
       "spc.1948      0.027338\n",
       "spc.1948.5    0.030157\n",
       "spc.1949      0.033058\n",
       "spc.1949.5    0.036038\n",
       "spc.1950      0.039098\n",
       "Name: 4148, Length: 101, dtype: float64"
      ]
     },
     "execution_count": 99,
     "metadata": {},
     "output_type": "execute_result"
    }
   ],
   "source": [
    "water_resid.loc[4148, :]"
   ]
  },
  {
   "cell_type": "code",
   "execution_count": 102,
   "metadata": {},
   "outputs": [
    {
     "data": {
      "text/plain": [
       "[<matplotlib.lines.Line2D at 0x7f7fb78f3940>]"
      ]
     },
     "execution_count": 102,
     "metadata": {},
     "output_type": "execute_result"
    },
    {
     "data": {
      "image/png": "[encoded data removed]",
      "text/plain": [
       "<Figure size 576x396 with 1 Axes>"
      ]
     },
     "metadata": {},
     "output_type": "display_data"
    }
   ],
   "source": [
    "plt.plot(waves_19_1950, water_resid.loc[4148, :])"
   ]
  },
  {
   "cell_type": "code",
   "execution_count": 105,
   "metadata": {},
   "outputs": [
    {
     "data": {
      "text/plain": [
       "[<matplotlib.lines.Line2D at 0x7f7fa72ea6a0>]"
      ]
     },
     "execution_count": 105,
     "metadata": {},
     "output_type": "execute_result"
    },
    {
     "data": {
      "image/png": "[encoded data removed]",
      "text/plain": [
       "<Figure size 576x396 with 1 Axes>"
      ]
     },
     "metadata": {},
     "output_type": "display_data"
    }
   ],
   "source": [
    "plt.plot(waves_19_1950,lucas_nir.loc[4148, 'spc.1900':'spc.1950'])\n",
    "plt.plot(waves_19_1950, modeled_spectra[4148, spc1900:spc1950+1])"
   ]
  },
  {
   "cell_type": "code",
   "execution_count": 106,
   "metadata": {},
   "outputs": [],
   "source": [
    "example_spec_list.append(4148)"
   ]
  },
  {
   "cell_type": "markdown",
   "metadata": {},
   "source": [
    "## Export spectra 12094 and 4148\n",
    "\n",
    "\n",
    "\n",
    "Here I export spectra 12094 and 4148 to a csv."
   ]
  },
  {
   "cell_type": "code",
   "execution_count": 177,
   "metadata": {},
   "outputs": [
    {
     "data": {
      "text/plain": [
       "[12094, 4148]"
      ]
     },
     "execution_count": 177,
     "metadata": {},
     "output_type": "execute_result"
    }
   ],
   "source": [
    "example_spec_list"
   ]
  },
  {
   "cell_type": "code",
   "execution_count": 109,
   "metadata": {},
   "outputs": [
    {
     "data": {
      "text/html": [
       "<div>\n",
       "<style scoped>\n",
       "    .dataframe tbody tr th:only-of-type {\n",
       "        vertical-align: middle;\n",
       "    }\n",
       "\n",
       "    .dataframe tbody tr th {\n",
       "        vertical-align: top;\n",
       "    }\n",
       "\n",
       "    .dataframe thead th {\n",
       "        text-align: right;\n",
       "    }\n",
       "</style>\n",
       "<table border=\"1\" class=\"dataframe\">\n",
       "  <thead>\n",
       "    <tr style=\"text-align: right;\">\n",
       "      <th></th>\n",
       "      <th>spc.1550</th>\n",
       "      <th>spc.1550.5</th>\n",
       "      <th>spc.1551</th>\n",
       "      <th>spc.1551.5</th>\n",
       "      <th>spc.1552</th>\n",
       "      <th>spc.1552.5</th>\n",
       "      <th>spc.1553</th>\n",
       "      <th>spc.1553.5</th>\n",
       "      <th>spc.1554</th>\n",
       "      <th>spc.1554.5</th>\n",
       "      <th>...</th>\n",
       "      <th>spc.1945.5</th>\n",
       "      <th>spc.1946</th>\n",
       "      <th>spc.1946.5</th>\n",
       "      <th>spc.1947</th>\n",
       "      <th>spc.1947.5</th>\n",
       "      <th>spc.1948</th>\n",
       "      <th>spc.1948.5</th>\n",
       "      <th>spc.1949</th>\n",
       "      <th>spc.1949.5</th>\n",
       "      <th>spc.1950</th>\n",
       "    </tr>\n",
       "  </thead>\n",
       "  <tbody>\n",
       "    <tr>\n",
       "      <th>12094</th>\n",
       "      <td>0.446533</td>\n",
       "      <td>0.446408</td>\n",
       "      <td>0.446284</td>\n",
       "      <td>0.446161</td>\n",
       "      <td>0.446040</td>\n",
       "      <td>0.445918</td>\n",
       "      <td>0.445798</td>\n",
       "      <td>0.445678</td>\n",
       "      <td>0.445559</td>\n",
       "      <td>0.445440</td>\n",
       "      <td>...</td>\n",
       "      <td>0.616149</td>\n",
       "      <td>0.615556</td>\n",
       "      <td>0.614967</td>\n",
       "      <td>0.614383</td>\n",
       "      <td>0.613804</td>\n",
       "      <td>0.613228</td>\n",
       "      <td>0.612657</td>\n",
       "      <td>0.612088</td>\n",
       "      <td>0.611522</td>\n",
       "      <td>0.610958</td>\n",
       "    </tr>\n",
       "    <tr>\n",
       "      <th>4148</th>\n",
       "      <td>0.339498</td>\n",
       "      <td>0.339239</td>\n",
       "      <td>0.338982</td>\n",
       "      <td>0.338727</td>\n",
       "      <td>0.338474</td>\n",
       "      <td>0.338222</td>\n",
       "      <td>0.337974</td>\n",
       "      <td>0.337727</td>\n",
       "      <td>0.337482</td>\n",
       "      <td>0.337238</td>\n",
       "      <td>...</td>\n",
       "      <td>0.630459</td>\n",
       "      <td>0.629667</td>\n",
       "      <td>0.628883</td>\n",
       "      <td>0.628107</td>\n",
       "      <td>0.627337</td>\n",
       "      <td>0.626574</td>\n",
       "      <td>0.625815</td>\n",
       "      <td>0.625062</td>\n",
       "      <td>0.624313</td>\n",
       "      <td>0.623568</td>\n",
       "    </tr>\n",
       "  </tbody>\n",
       "</table>\n",
       "<p>2 rows × 801 columns</p>\n",
       "</div>"
      ],
      "text/plain": [
       "       spc.1550  spc.1550.5  spc.1551  spc.1551.5  spc.1552  spc.1552.5  \\\n",
       "12094  0.446533    0.446408  0.446284    0.446161  0.446040    0.445918   \n",
       "4148   0.339498    0.339239  0.338982    0.338727  0.338474    0.338222   \n",
       "\n",
       "       spc.1553  spc.1553.5  spc.1554  spc.1554.5  ...  spc.1945.5  spc.1946  \\\n",
       "12094  0.445798    0.445678  0.445559    0.445440  ...    0.616149  0.615556   \n",
       "4148   0.337974    0.337727  0.337482    0.337238  ...    0.630459  0.629667   \n",
       "\n",
       "       spc.1946.5  spc.1947  spc.1947.5  spc.1948  spc.1948.5  spc.1949  \\\n",
       "12094    0.614967  0.614383    0.613804  0.613228    0.612657  0.612088   \n",
       "4148     0.628883  0.628107    0.627337  0.626574    0.625815  0.625062   \n",
       "\n",
       "       spc.1949.5  spc.1950  \n",
       "12094    0.611522  0.610958  \n",
       "4148     0.624313  0.623568  \n",
       "\n",
       "[2 rows x 801 columns]"
      ]
     },
     "execution_count": 109,
     "metadata": {},
     "output_type": "execute_result"
    }
   ],
   "source": [
    "example_spec = lucas_nir.loc[example_spec_list, :]\n",
    "example_spec"
   ]
  },
  {
   "cell_type": "code",
   "execution_count": 111,
   "metadata": {},
   "outputs": [],
   "source": [
    "example_spec.T.to_csv('example_spec.csv', header = False, index = False)"
   ]
  },
  {
   "cell_type": "markdown",
   "metadata": {},
   "source": [
    "## Spectrum 3984\n",
    "\n",
    "Here I decided to look for the spectrum with the largest f1 value, because it had not peaked at the one of our fatty acid peak wavelengths.  I therefore identifed spectrum **3984**."
   ]
  },
  {
   "cell_type": "code",
   "execution_count": 112,
   "metadata": {},
   "outputs": [],
   "source": [
    "max_loc = f_series.loc[f_series == f_series.max()].index.values[0]\n",
    "f1_max_spec = lucas_nir.loc[lucas_nir.index == max_loc]\n",
    "f1_max_modeled = modeled_spectra[max_loc]"
   ]
  },
  {
   "cell_type": "code",
   "execution_count": 178,
   "metadata": {},
   "outputs": [
    {
     "data": {
      "image/png": "[encoded data removed]",
      "text/plain": [
       "<Figure size 576x396 with 1 Axes>"
      ]
     },
     "metadata": {},
     "output_type": "display_data"
    }
   ],
   "source": [
    "plt.plot(lucas_waves, f1_max_spec.iloc[0, :])\n",
    "plt.plot(lucas_waves, f1_max_modeled);"
   ]
  },
  {
   "cell_type": "code",
   "execution_count": 114,
   "metadata": {},
   "outputs": [
    {
     "data": {
      "text/plain": [
       "3984"
      ]
     },
     "execution_count": 114,
     "metadata": {},
     "output_type": "execute_result"
    }
   ],
   "source": [
    "max_loc"
   ]
  },
  {
   "cell_type": "code",
   "execution_count": 119,
   "metadata": {},
   "outputs": [
    {
     "data": {
      "text/plain": [
       "spc.1550      0.203304\n",
       "spc.1550.5    0.202533\n",
       "spc.1551      0.201766\n",
       "spc.1551.5    0.201003\n",
       "spc.1552      0.200246\n",
       "                ...   \n",
       "spc.1948      0.598152\n",
       "spc.1948.5    0.595846\n",
       "spc.1949      0.593334\n",
       "spc.1949.5    0.590618\n",
       "spc.1950      0.587704\n",
       "Name: 3984, Length: 801, dtype: float64"
      ]
     },
     "execution_count": 119,
     "metadata": {},
     "output_type": "execute_result"
    }
   ],
   "source": [
    "lucas_nir.loc[max_loc, :]"
   ]
  },
  {
   "cell_type": "markdown",
   "metadata": {},
   "source": [
    "Here I export number 3984."
   ]
  },
  {
   "cell_type": "code",
   "execution_count": 120,
   "metadata": {},
   "outputs": [],
   "source": [
    "f1_max_spec.T.to_csv('lucas3984.csv', header = False, index = False)"
   ]
  },
  {
   "cell_type": "markdown",
   "metadata": {},
   "source": [
    "## Spectrum 1088\n",
    "\n",
    "Here I exported the first spectrum in the list of all spectra with OC > 500 g/kg."
   ]
  },
  {
   "cell_type": "code",
   "execution_count": 179,
   "metadata": {},
   "outputs": [
    {
     "data": {
      "text/plain": [
       "spc.1550      0.410250\n",
       "spc.1550.5    0.410187\n",
       "spc.1551      0.410124\n",
       "spc.1551.5    0.410061\n",
       "spc.1552      0.409998\n",
       "                ...   \n",
       "spc.1948      0.493976\n",
       "spc.1948.5    0.493470\n",
       "spc.1949      0.492965\n",
       "spc.1949.5    0.492460\n",
       "spc.1950      0.491953\n",
       "Name: 1088, Length: 801, dtype: float64"
      ]
     },
     "execution_count": 179,
     "metadata": {},
     "output_type": "execute_result"
    }
   ],
   "source": [
    "lucas_nir.loc[spec['OC'] > 500].iloc[0, :]"
   ]
  },
  {
   "cell_type": "code",
   "execution_count": null,
   "metadata": {},
   "outputs": [],
   "source": [
    "lucas_nir.loc[spec['OC'] > 500].iloc[0, :].T.to_csv('lucas1088.csv', header = False, index = False)"
   ]
  },
  {
   "cell_type": "markdown",
   "metadata": {},
   "source": [
    "## Very high OC,  f1 peak less than 1730 nm\n",
    "\n",
    "Here I wanted to find spectra that had a 1700-1800 nm peak of less than 1730 and a high OC content.  I started by creating a dataframe that had the maximum values and the wavelength of the maximum values, as well as the OC content for all of the spectra."
   ]
  },
  {
   "cell_type": "code",
   "execution_count": 141,
   "metadata": {},
   "outputs": [],
   "source": [
    "oc_content = spec.columns.get_loc('OC')\n",
    "sspc1700 = spec.columns.get_loc('spc.1700')\n",
    "sspc1800 = spec.columns.get_loc('spc.1800')\n",
    "maxvals2 = np.empty(spec.shape[0], dtype = float)\n",
    "maxwaves2 = np.empty(spec.shape[0], dtype = float)\n",
    "oc2 = np.empty(spec.shape[0], dtype = float)\n",
    "for i in range(spec.shape[0]):\n",
    "    series2 = spec.iloc[i, sspc1700:sspc1800]\n",
    "    maxval2 = series2.max()\n",
    "    maxstring2 = series2[series2 == maxval2].index.tolist()[0]\n",
    "    maxwave2 = float(maxstring2[4:])\n",
    "    maxvals2[i] = maxval2\n",
    "    maxwaves2[i]= maxwave2\n",
    "    oc2[i] = (spec.iloc[i, oc_content])"
   ]
  },
  {
   "cell_type": "code",
   "execution_count": 142,
   "metadata": {},
   "outputs": [],
   "source": [
    "vw = pd.DataFrame()"
   ]
  },
  {
   "cell_type": "code",
   "execution_count": 143,
   "metadata": {},
   "outputs": [
    {
     "data": {
      "text/html": [
       "<div>\n",
       "<style scoped>\n",
       "    .dataframe tbody tr th:only-of-type {\n",
       "        vertical-align: middle;\n",
       "    }\n",
       "\n",
       "    .dataframe tbody tr th {\n",
       "        vertical-align: top;\n",
       "    }\n",
       "\n",
       "    .dataframe thead th {\n",
       "        text-align: right;\n",
       "    }\n",
       "</style>\n",
       "<table border=\"1\" class=\"dataframe\">\n",
       "  <thead>\n",
       "    <tr style=\"text-align: right;\">\n",
       "      <th></th>\n",
       "    </tr>\n",
       "  </thead>\n",
       "  <tbody>\n",
       "  </tbody>\n",
       "</table>\n",
       "</div>"
      ],
      "text/plain": [
       "Empty DataFrame\n",
       "Columns: []\n",
       "Index: []"
      ]
     },
     "execution_count": 143,
     "metadata": {},
     "output_type": "execute_result"
    }
   ],
   "source": [
    "vw"
   ]
  },
  {
   "cell_type": "code",
   "execution_count": 154,
   "metadata": {},
   "outputs": [],
   "source": [
    "vw2 = vw.assign(maxval = pd.Series(maxvals2))"
   ]
  },
  {
   "cell_type": "code",
   "execution_count": 155,
   "metadata": {},
   "outputs": [
    {
     "data": {
      "text/html": [
       "<div>\n",
       "<style scoped>\n",
       "    .dataframe tbody tr th:only-of-type {\n",
       "        vertical-align: middle;\n",
       "    }\n",
       "\n",
       "    .dataframe tbody tr th {\n",
       "        vertical-align: top;\n",
       "    }\n",
       "\n",
       "    .dataframe thead th {\n",
       "        text-align: right;\n",
       "    }\n",
       "</style>\n",
       "<table border=\"1\" class=\"dataframe\">\n",
       "  <thead>\n",
       "    <tr style=\"text-align: right;\">\n",
       "      <th></th>\n",
       "      <th>maxval</th>\n",
       "    </tr>\n",
       "  </thead>\n",
       "  <tbody>\n",
       "    <tr>\n",
       "      <th>0</th>\n",
       "      <td>0.421552</td>\n",
       "    </tr>\n",
       "    <tr>\n",
       "      <th>1</th>\n",
       "      <td>0.358430</td>\n",
       "    </tr>\n",
       "    <tr>\n",
       "      <th>2</th>\n",
       "      <td>0.369539</td>\n",
       "    </tr>\n",
       "    <tr>\n",
       "      <th>3</th>\n",
       "      <td>0.418863</td>\n",
       "    </tr>\n",
       "    <tr>\n",
       "      <th>4</th>\n",
       "      <td>0.437625</td>\n",
       "    </tr>\n",
       "    <tr>\n",
       "      <th>...</th>\n",
       "      <td>...</td>\n",
       "    </tr>\n",
       "    <tr>\n",
       "      <th>19005</th>\n",
       "      <td>0.435611</td>\n",
       "    </tr>\n",
       "    <tr>\n",
       "      <th>19006</th>\n",
       "      <td>0.449001</td>\n",
       "    </tr>\n",
       "    <tr>\n",
       "      <th>19007</th>\n",
       "      <td>0.318476</td>\n",
       "    </tr>\n",
       "    <tr>\n",
       "      <th>19008</th>\n",
       "      <td>0.529241</td>\n",
       "    </tr>\n",
       "    <tr>\n",
       "      <th>19009</th>\n",
       "      <td>0.389042</td>\n",
       "    </tr>\n",
       "  </tbody>\n",
       "</table>\n",
       "<p>19010 rows × 1 columns</p>\n",
       "</div>"
      ],
      "text/plain": [
       "         maxval\n",
       "0      0.421552\n",
       "1      0.358430\n",
       "2      0.369539\n",
       "3      0.418863\n",
       "4      0.437625\n",
       "...         ...\n",
       "19005  0.435611\n",
       "19006  0.449001\n",
       "19007  0.318476\n",
       "19008  0.529241\n",
       "19009  0.389042\n",
       "\n",
       "[19010 rows x 1 columns]"
      ]
     },
     "execution_count": 155,
     "metadata": {},
     "output_type": "execute_result"
    }
   ],
   "source": [
    "vw2"
   ]
  },
  {
   "cell_type": "code",
   "execution_count": 157,
   "metadata": {},
   "outputs": [],
   "source": [
    "vw2 = vw2.assign(maxwave = pd.Series(maxwaves2))"
   ]
  },
  {
   "cell_type": "code",
   "execution_count": 158,
   "metadata": {},
   "outputs": [
    {
     "data": {
      "text/html": [
       "<div>\n",
       "<style scoped>\n",
       "    .dataframe tbody tr th:only-of-type {\n",
       "        vertical-align: middle;\n",
       "    }\n",
       "\n",
       "    .dataframe tbody tr th {\n",
       "        vertical-align: top;\n",
       "    }\n",
       "\n",
       "    .dataframe thead th {\n",
       "        text-align: right;\n",
       "    }\n",
       "</style>\n",
       "<table border=\"1\" class=\"dataframe\">\n",
       "  <thead>\n",
       "    <tr style=\"text-align: right;\">\n",
       "      <th></th>\n",
       "      <th>maxval</th>\n",
       "      <th>maxwave</th>\n",
       "    </tr>\n",
       "  </thead>\n",
       "  <tbody>\n",
       "    <tr>\n",
       "      <th>0</th>\n",
       "      <td>0.421552</td>\n",
       "      <td>1794.5</td>\n",
       "    </tr>\n",
       "    <tr>\n",
       "      <th>1</th>\n",
       "      <td>0.358430</td>\n",
       "      <td>1776.0</td>\n",
       "    </tr>\n",
       "    <tr>\n",
       "      <th>2</th>\n",
       "      <td>0.369539</td>\n",
       "      <td>1766.5</td>\n",
       "    </tr>\n",
       "    <tr>\n",
       "      <th>3</th>\n",
       "      <td>0.418863</td>\n",
       "      <td>1760.5</td>\n",
       "    </tr>\n",
       "    <tr>\n",
       "      <th>4</th>\n",
       "      <td>0.437625</td>\n",
       "      <td>1776.5</td>\n",
       "    </tr>\n",
       "    <tr>\n",
       "      <th>...</th>\n",
       "      <td>...</td>\n",
       "      <td>...</td>\n",
       "    </tr>\n",
       "    <tr>\n",
       "      <th>19005</th>\n",
       "      <td>0.435611</td>\n",
       "      <td>1765.0</td>\n",
       "    </tr>\n",
       "    <tr>\n",
       "      <th>19006</th>\n",
       "      <td>0.449001</td>\n",
       "      <td>1700.0</td>\n",
       "    </tr>\n",
       "    <tr>\n",
       "      <th>19007</th>\n",
       "      <td>0.318476</td>\n",
       "      <td>1700.0</td>\n",
       "    </tr>\n",
       "    <tr>\n",
       "      <th>19008</th>\n",
       "      <td>0.529241</td>\n",
       "      <td>1728.5</td>\n",
       "    </tr>\n",
       "    <tr>\n",
       "      <th>19009</th>\n",
       "      <td>0.389042</td>\n",
       "      <td>1700.0</td>\n",
       "    </tr>\n",
       "  </tbody>\n",
       "</table>\n",
       "<p>19010 rows × 2 columns</p>\n",
       "</div>"
      ],
      "text/plain": [
       "         maxval  maxwave\n",
       "0      0.421552   1794.5\n",
       "1      0.358430   1776.0\n",
       "2      0.369539   1766.5\n",
       "3      0.418863   1760.5\n",
       "4      0.437625   1776.5\n",
       "...         ...      ...\n",
       "19005  0.435611   1765.0\n",
       "19006  0.449001   1700.0\n",
       "19007  0.318476   1700.0\n",
       "19008  0.529241   1728.5\n",
       "19009  0.389042   1700.0\n",
       "\n",
       "[19010 rows x 2 columns]"
      ]
     },
     "execution_count": 158,
     "metadata": {},
     "output_type": "execute_result"
    }
   ],
   "source": [
    "vw2"
   ]
  },
  {
   "cell_type": "code",
   "execution_count": 159,
   "metadata": {},
   "outputs": [],
   "source": [
    "vw2 = vw2.assign(oc = pd.Series(oc2))"
   ]
  },
  {
   "cell_type": "code",
   "execution_count": 160,
   "metadata": {},
   "outputs": [
    {
     "data": {
      "text/html": [
       "<div>\n",
       "<style scoped>\n",
       "    .dataframe tbody tr th:only-of-type {\n",
       "        vertical-align: middle;\n",
       "    }\n",
       "\n",
       "    .dataframe tbody tr th {\n",
       "        vertical-align: top;\n",
       "    }\n",
       "\n",
       "    .dataframe thead th {\n",
       "        text-align: right;\n",
       "    }\n",
       "</style>\n",
       "<table border=\"1\" class=\"dataframe\">\n",
       "  <thead>\n",
       "    <tr style=\"text-align: right;\">\n",
       "      <th></th>\n",
       "      <th>maxval</th>\n",
       "      <th>maxwave</th>\n",
       "      <th>oc</th>\n",
       "    </tr>\n",
       "  </thead>\n",
       "  <tbody>\n",
       "    <tr>\n",
       "      <th>0</th>\n",
       "      <td>0.421552</td>\n",
       "      <td>1794.5</td>\n",
       "      <td>27.3</td>\n",
       "    </tr>\n",
       "    <tr>\n",
       "      <th>1</th>\n",
       "      <td>0.358430</td>\n",
       "      <td>1776.0</td>\n",
       "      <td>15.3</td>\n",
       "    </tr>\n",
       "    <tr>\n",
       "      <th>2</th>\n",
       "      <td>0.369539</td>\n",
       "      <td>1766.5</td>\n",
       "      <td>42.4</td>\n",
       "    </tr>\n",
       "    <tr>\n",
       "      <th>3</th>\n",
       "      <td>0.418863</td>\n",
       "      <td>1760.5</td>\n",
       "      <td>42.6</td>\n",
       "    </tr>\n",
       "    <tr>\n",
       "      <th>4</th>\n",
       "      <td>0.437625</td>\n",
       "      <td>1776.5</td>\n",
       "      <td>35.7</td>\n",
       "    </tr>\n",
       "    <tr>\n",
       "      <th>...</th>\n",
       "      <td>...</td>\n",
       "      <td>...</td>\n",
       "      <td>...</td>\n",
       "    </tr>\n",
       "    <tr>\n",
       "      <th>19005</th>\n",
       "      <td>0.435611</td>\n",
       "      <td>1765.0</td>\n",
       "      <td>22.2</td>\n",
       "    </tr>\n",
       "    <tr>\n",
       "      <th>19006</th>\n",
       "      <td>0.449001</td>\n",
       "      <td>1700.0</td>\n",
       "      <td>34.1</td>\n",
       "    </tr>\n",
       "    <tr>\n",
       "      <th>19007</th>\n",
       "      <td>0.318476</td>\n",
       "      <td>1700.0</td>\n",
       "      <td>15.3</td>\n",
       "    </tr>\n",
       "    <tr>\n",
       "      <th>19008</th>\n",
       "      <td>0.529241</td>\n",
       "      <td>1728.5</td>\n",
       "      <td>55.4</td>\n",
       "    </tr>\n",
       "    <tr>\n",
       "      <th>19009</th>\n",
       "      <td>0.389042</td>\n",
       "      <td>1700.0</td>\n",
       "      <td>10.8</td>\n",
       "    </tr>\n",
       "  </tbody>\n",
       "</table>\n",
       "<p>19010 rows × 3 columns</p>\n",
       "</div>"
      ],
      "text/plain": [
       "         maxval  maxwave    oc\n",
       "0      0.421552   1794.5  27.3\n",
       "1      0.358430   1776.0  15.3\n",
       "2      0.369539   1766.5  42.4\n",
       "3      0.418863   1760.5  42.6\n",
       "4      0.437625   1776.5  35.7\n",
       "...         ...      ...   ...\n",
       "19005  0.435611   1765.0  22.2\n",
       "19006  0.449001   1700.0  34.1\n",
       "19007  0.318476   1700.0  15.3\n",
       "19008  0.529241   1728.5  55.4\n",
       "19009  0.389042   1700.0  10.8\n",
       "\n",
       "[19010 rows x 3 columns]"
      ]
     },
     "execution_count": 160,
     "metadata": {},
     "output_type": "execute_result"
    }
   ],
   "source": [
    "vw2"
   ]
  },
  {
   "cell_type": "markdown",
   "metadata": {},
   "source": [
    "## Spectrum 6408\n",
    "\n",
    "Spectrum 6408 had both a wavelength for the maximum value of less than 1730 and a very high OC content.  Of the two meeting those criteria, **6408** had the highest f1 parameter, so I chose it."
   ]
  },
  {
   "cell_type": "code",
   "execution_count": 162,
   "metadata": {},
   "outputs": [
    {
     "data": {
      "text/html": [
       "<div>\n",
       "<style scoped>\n",
       "    .dataframe tbody tr th:only-of-type {\n",
       "        vertical-align: middle;\n",
       "    }\n",
       "\n",
       "    .dataframe tbody tr th {\n",
       "        vertical-align: top;\n",
       "    }\n",
       "\n",
       "    .dataframe thead th {\n",
       "        text-align: right;\n",
       "    }\n",
       "</style>\n",
       "<table border=\"1\" class=\"dataframe\">\n",
       "  <thead>\n",
       "    <tr style=\"text-align: right;\">\n",
       "      <th></th>\n",
       "      <th>maxval</th>\n",
       "      <th>maxwave</th>\n",
       "      <th>oc</th>\n",
       "    </tr>\n",
       "  </thead>\n",
       "  <tbody>\n",
       "    <tr>\n",
       "      <th>6037</th>\n",
       "      <td>0.516026</td>\n",
       "      <td>1727.0</td>\n",
       "      <td>586.4</td>\n",
       "    </tr>\n",
       "    <tr>\n",
       "      <th>6408</th>\n",
       "      <td>0.440329</td>\n",
       "      <td>1728.0</td>\n",
       "      <td>586.8</td>\n",
       "    </tr>\n",
       "  </tbody>\n",
       "</table>\n",
       "</div>"
      ],
      "text/plain": [
       "        maxval  maxwave     oc\n",
       "6037  0.516026   1727.0  586.4\n",
       "6408  0.440329   1728.0  586.8"
      ]
     },
     "execution_count": 162,
     "metadata": {},
     "output_type": "execute_result"
    }
   ],
   "source": [
    "vw2.loc[(vw2['maxwave'] < 1730) & (vw2['oc']> 580) ]"
   ]
  },
  {
   "cell_type": "code",
   "execution_count": 163,
   "metadata": {},
   "outputs": [
    {
     "data": {
      "text/plain": [
       "0.004239163105088688"
      ]
     },
     "execution_count": 163,
     "metadata": {},
     "output_type": "execute_result"
    }
   ],
   "source": [
    "farray[6037]"
   ]
  },
  {
   "cell_type": "code",
   "execution_count": 164,
   "metadata": {},
   "outputs": [
    {
     "data": {
      "text/plain": [
       "0.006496172223578858"
      ]
     },
     "execution_count": 164,
     "metadata": {},
     "output_type": "execute_result"
    }
   ],
   "source": [
    "farray[6408]"
   ]
  },
  {
   "cell_type": "code",
   "execution_count": 165,
   "metadata": {},
   "outputs": [
    {
     "data": {
      "text/plain": [
       "[<matplotlib.lines.Line2D at 0x7f7f9e10ee50>]"
      ]
     },
     "execution_count": 165,
     "metadata": {},
     "output_type": "execute_result"
    },
    {
     "data": {
      "image/png": "[encoded data removed]",
      "text/plain": [
       "<Figure size 576x396 with 1 Axes>"
      ]
     },
     "metadata": {},
     "output_type": "display_data"
    }
   ],
   "source": [
    "plt.plot(lucas_waves, lucas_nir.iloc[6408, :])\n",
    "plt.plot(lucas_waves, modeled_spectra[6408, :])"
   ]
  },
  {
   "cell_type": "markdown",
   "metadata": {},
   "source": [
    "## Spectrum 17095\n",
    "\n",
    "Here I chose one spectrum, **17095** out of those that had a peak in a wavelength longer than 1760, and a high OC content, and a large f1 vale."
   ]
  },
  {
   "cell_type": "code",
   "execution_count": 168,
   "metadata": {},
   "outputs": [
    {
     "data": {
      "text/html": [
       "<div>\n",
       "<style scoped>\n",
       "    .dataframe tbody tr th:only-of-type {\n",
       "        vertical-align: middle;\n",
       "    }\n",
       "\n",
       "    .dataframe tbody tr th {\n",
       "        vertical-align: top;\n",
       "    }\n",
       "\n",
       "    .dataframe thead th {\n",
       "        text-align: right;\n",
       "    }\n",
       "</style>\n",
       "<table border=\"1\" class=\"dataframe\">\n",
       "  <thead>\n",
       "    <tr style=\"text-align: right;\">\n",
       "      <th></th>\n",
       "      <th>maxval</th>\n",
       "      <th>maxwave</th>\n",
       "      <th>oc</th>\n",
       "    </tr>\n",
       "  </thead>\n",
       "  <tbody>\n",
       "    <tr>\n",
       "      <th>16003</th>\n",
       "      <td>0.289159</td>\n",
       "      <td>1762.5</td>\n",
       "      <td>421.4</td>\n",
       "    </tr>\n",
       "    <tr>\n",
       "      <th>16138</th>\n",
       "      <td>0.308710</td>\n",
       "      <td>1764.5</td>\n",
       "      <td>475.1</td>\n",
       "    </tr>\n",
       "    <tr>\n",
       "      <th>16478</th>\n",
       "      <td>0.305595</td>\n",
       "      <td>1763.0</td>\n",
       "      <td>498.5</td>\n",
       "    </tr>\n",
       "    <tr>\n",
       "      <th>17006</th>\n",
       "      <td>0.269383</td>\n",
       "      <td>1765.0</td>\n",
       "      <td>491.6</td>\n",
       "    </tr>\n",
       "    <tr>\n",
       "      <th>17095</th>\n",
       "      <td>0.275742</td>\n",
       "      <td>1763.0</td>\n",
       "      <td>474.2</td>\n",
       "    </tr>\n",
       "  </tbody>\n",
       "</table>\n",
       "</div>"
      ],
      "text/plain": [
       "         maxval  maxwave     oc\n",
       "16003  0.289159   1762.5  421.4\n",
       "16138  0.308710   1764.5  475.1\n",
       "16478  0.305595   1763.0  498.5\n",
       "17006  0.269383   1765.0  491.6\n",
       "17095  0.275742   1763.0  474.2"
      ]
     },
     "execution_count": 168,
     "metadata": {},
     "output_type": "execute_result"
    }
   ],
   "source": [
    "vw2.loc[(vw2['maxwave'] > 1760) & (vw2['oc']> 400) & (farray > 0.006) ]"
   ]
  },
  {
   "cell_type": "code",
   "execution_count": 170,
   "metadata": {},
   "outputs": [
    {
     "data": {
      "text/plain": [
       "[<matplotlib.lines.Line2D at 0x7f7fa51acdf0>]"
      ]
     },
     "execution_count": 170,
     "metadata": {},
     "output_type": "execute_result"
    },
    {
     "data": {
      "image/png": "[encoded data removed]",
      "text/plain": [
       "<Figure size 576x396 with 1 Axes>"
      ]
     },
     "metadata": {},
     "output_type": "display_data"
    }
   ],
   "source": [
    "plt.plot(lucas_waves, lucas_nir.iloc[17095, :])\n",
    "plt.plot(lucas_waves, modeled_spectra[17095, :])"
   ]
  },
  {
   "cell_type": "code",
   "execution_count": 171,
   "metadata": {},
   "outputs": [],
   "source": [
    "lucas_nir.loc[6408, :].T.to_csv('lucas6408.csv', header = False, index = False)"
   ]
  },
  {
   "cell_type": "code",
   "execution_count": 172,
   "metadata": {},
   "outputs": [],
   "source": [
    "lucas_nir.loc[17095, :].T.to_csv('lucas17095.csv', header = False, index = False)"
   ]
  },
  {
   "cell_type": "code",
   "execution_count": null,
   "metadata": {},
   "outputs": [],
   "source": []
  }
 ],
 "metadata": {
  "kernelspec": {
   "display_name": "Python 3",
   "language": "python",
   "name": "python3"
  },
  "language_info": {
   "codemirror_mode": {
    "name": "ipython",
    "version": 3
   },
   "file_extension": ".py",
   "mimetype": "text/x-python",
   "name": "python",
   "nbconvert_exporter": "python",
   "pygments_lexer": "ipython3",
   "version": "3.8.6"
  }
 },
 "nbformat": 4,
 "nbformat_minor": 4
}
