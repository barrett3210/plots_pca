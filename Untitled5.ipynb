{
 "cells": [
  {
   "cell_type": "code",
   "execution_count": 34,
   "id": "5be24a11-4251-4335-aed9-4d7ed089724e",
   "metadata": {},
   "outputs": [],
   "source": [
    "import pandas as pd\n",
    "import numpy as np\n",
    "import h5py\n",
    "import datetime\n",
    "import math\n",
    "import matplotlib.pyplot as plt\n",
    "import matplotlib.dates as mdates\n",
    "import matplotlib.colors\n",
    "import seaborn as sns\n",
    "from scipy.signal import savgol_filter\n",
    "from scipy.signal import find_peaks\n",
    "plt.style.use('seaborn')\n",
    "%matplotlib inline"
   ]
  },
  {
   "cell_type": "code",
   "execution_count": 6,
   "id": "c260002a-0e28-45b5-9bfc-b53f873f7fe2",
   "metadata": {},
   "outputs": [],
   "source": [
    "def get_calibration_temperature(file, calibration_path):\n",
    "    with h5py.File(file, 'r') as h5_file:\n",
    "        cal_temp = h5_file[calibration_path].attrs['ftir_temperature']\n",
    "        return cal_temp\n",
    "    \n",
    "def get_insertion_temperature(file, insertion_path):\n",
    "    with h5py.File(file, 'r') as h5_file:\n",
    "        ins_temp = h5_file[insertion_path].attrs['ftir_temp']\n",
    "        return ins_temp\n",
    "    \n",
    "def get_visible_white_calibration_curve(file, calibration_path):\n",
    "    with h5py.File(file, 'r') as h5_file:\n",
    "        cal = h5_file[calibration_path].attrs['white_spectrum'][:]\n",
    "        return cal\n",
    "    \n",
    "def get_ftir_white_calibration_curve(file, calibration_path):\n",
    "    with h5py.File(file, 'r') as h5_file:\n",
    "        cal = h5_file[calibration_path].attrs['white_spectrum2'][:]\n",
    "        return cal\n",
    "    \n",
    "def get_visible_wavelength_vector(file, calibration_path):\n",
    "    with h5py.File(file, 'r') as h5_file:\n",
    "        waves = h5_file[calibration_path].attrs['spec1_wavelengths_vector'][:]\n",
    "        return waves\n",
    "    \n",
    "def get_ftir_wavelength_vector(file, calibration_path):\n",
    "    with h5py.File(file, 'r') as h5_file:\n",
    "        waves = h5_file[calibration_path].attrs['spec2_wavelengths_vector'][:]\n",
    "        return waves\n",
    "    \n",
    "def get_ftir_insertion_absorbances(file, insertion_path):\n",
    "    with h5py.File(file, 'r') as h5_file:\n",
    "        ins_abs = h5_file[f'{insertion_path}/spectrometer2/derived/absorbances'][:]\n",
    "        return ins_abs\n",
    "    \n",
    "def get_ftir_insertion_raw_spectra(file, insertion_path):\n",
    "    with h5py.File(file, 'r') as h5_file:\n",
    "        ins_raw = h5_file[f'{insertion_path}/spectrometer2/spectra'][:]\n",
    "        return ins_raw\n",
    "    \n",
    "def get_ftir_insertion_timestamps(file, insertion_path):\n",
    "    with h5py.File(file, 'r') as h5_file:\n",
    "        timestamps = h5_file[f'{insertion_path}/spectrometer2/timestamps'][:]\n",
    "        return timestamps\n",
    "    \n",
    "def get_visible_insertion_timestamps(file, insertion_path):\n",
    "    with h5py.File(file, 'r') as h5_file:\n",
    "        timestamps = h5_file[f'{insertion_path}/spectrometer1/timestamps'][:]\n",
    "        return timestamps\n",
    "    \n",
    "def get_visible_insertion_absorbances(file, insertion_path):\n",
    "    with h5py.File(file, 'r') as h5_file:\n",
    "        ins_abs = h5_file[f'{insertion_path}/spectrometer1/derived/absorbances'][:]\n",
    "        return ins_abs\n",
    "    \n",
    "def get_visible_insertion_raw_spectra(file, insertion_path):\n",
    "    with h5py.File(file, 'r') as h5_file:\n",
    "        ins_raw = h5_file[f'{insertion_path}/spectrometer1/spectra'][:]\n",
    "        return ins_raw\n",
    "    \n",
    "def create_list_of_items_in_node(item_type, file, node):\n",
    "    with h5py.File(file, 'r') as h5_file:\n",
    "        keys = []\n",
    "        if item_type == \"group\":\n",
    "            my_type = h5py._hl.group.Group\n",
    "        if item_type == \"dataset\":\n",
    "            my_type = h5py._hl.dataset.Dataset\n",
    "        h5_file[node].visit(lambda key: keys.append(key) if type(h5_file[node][key]) is my_type else None)\n",
    "        return keys\n",
    "\n",
    "def create_list_of_calibrations_in_node(file, node):\n",
    "    calibrations = []\n",
    "    all_groups = create_list_of_items_in_node(\"group\", file, node)\n",
    "    for group in all_groups:\n",
    "        if group[-6:-3] == 'cal':\n",
    "            calibrations.append(node + '/' + group)\n",
    "    return calibrations\n",
    "\n",
    "def create_list_of_insertions_in_calibration(file, calibration_path):\n",
    "    with h5py.File(file, 'r') as h5_file:\n",
    "        insertion_keys = list(h5_file[calibration_path].keys())\n",
    "        insertions = [f'{calibration_path}/{key}' for key in insertion_keys]            \n",
    "        return insertions\n",
    "    \n",
    "def select_by_depth_range(df, range_start, range_end):\n",
    "    df_out = df.loc[(df['depth'] > range_start) & (df['depth'] < range_end)]\n",
    "    return df_out\n",
    "\n",
    "def calculate_absorbance_from_raw(raw_spectrum, white_spectrum, dark_spectrum):\n",
    "    reflectance = ((raw_spectrum - dark_spectrum) / (white_spectrum - dark_spectrum))\n",
    "    inverse_reflectance = 1/reflectance\n",
    "    absorbance = np.log10(inverse_reflectance.astype(np.float64))\n",
    "    return absorbance\n",
    "\n",
    "def calculate_absorbance_for_2D_array(array, white_spectrum, dark_spectrum):\n",
    "    absorbance_array = np.empty_like(array, dtype=np.float64)\n",
    "    for i in range(array.shape[0]):\n",
    "        absorbance_spectrum = calculate_absorbance_from_raw(array[i, :], white_spectrum, dark_spectrum)\n",
    "        absorbance_array[i, :] = absorbance_spectrum\n",
    "    return absorbance_array\n",
    "\n",
    "def construct_full_file_path(data_path, file_name):\n",
    "    file_path = data_path + file_name\n",
    "    return file_path\n",
    "\n",
    "def create_list_of_sessions_in_file(file_name):\n",
    "    sessions = []\n",
    "    all_groups = create_list_of_items_in_node(\"group\", file_name, \"/\")\n",
    "    for group in all_groups:\n",
    "        if (group[0:3] == 'ses') and (len(group) == 10):\n",
    "            sessions.append(group)\n",
    "    return sessions\n",
    "\n",
    "def create_list_of_insertions_in_file(file_name):\n",
    "    insertions = []\n",
    "    sessions = create_list_of_sessions_in_file(file_name)\n",
    "    for session in sessions:\n",
    "        calibrations = create_list_of_calibrations_in_node(file_name, session)\n",
    "        for calibration in calibrations:\n",
    "            cal_insertions = create_list_of_insertions_in_calibration(file_name, calibration)\n",
    "            for insertion in cal_insertions:\n",
    "                insertions.append(insertion)\n",
    "    return insertions\n",
    "            \n",
    "def get_insertion_timestamp(file, insertion_path):\n",
    "    with h5py.File(file, 'r') as h5_file:\n",
    "        ins_time = h5_file[insertion_path].attrs['start_time']\n",
    "        ins_timestamp = pd.Timestamp(ins_time, unit='us')\n",
    "        return ins_timestamp\n",
    "    \n",
    "def get_calibration_timestamp(file, calibration_path):\n",
    "    with h5py.File(file, 'r') as h5_file:\n",
    "        cal_time = h5_file[calibration_path].attrs['calibration_start_time']\n",
    "        cal_timestamp = pd.Timestamp(cal_time, unit='us')\n",
    "        return cal_timestamp  \n",
    "    \n",
    "def find_position_in_wavelength_vector(wavelength_vector, integer):\n",
    "    position = np.where(np.isclose(wavelength_vector, integer, 1e-3))[0][0]\n",
    "    return position\n",
    "\n",
    "def normalize(value, max_value, min_value):\n",
    "    normalized_value = (value - min_value)/(max_value - min_value)\n",
    "    return normalized_value\n",
    "\n",
    "def get_ftir_dark_calibration_curve(file, calibration_path):\n",
    "    with h5py.File(file, 'r') as h5_file:\n",
    "        cal = h5_file[calibration_path].attrs['dark_spectrum2'][:]\n",
    "        return cal\n",
    "    \n",
    "def get_visible_dark_calibration_curve(file, calibration_path):\n",
    "    with h5py.File(file, 'r') as h5_file:\n",
    "        cal = h5_file[calibration_path].attrs['dark_spectrum'][:]\n",
    "        return cal\n",
    "        \n",
    "def get_ftir_spectrum_timestamp(file, insertion_path, index):\n",
    "    with h5py.File(file, 'r') as h5_file:\n",
    "        time = h5_file[f'{insertion_path}/spectrometer2/timestamps'][index]\n",
    "        timestamp = pd.Timestamp(time, unit='us')\n",
    "        return timestamp\n",
    "    \n",
    "def get_visible_spectrum_timestamp(file, insertion_path, index):\n",
    "    with h5py.File(file, 'r') as h5_file:\n",
    "        time = h5_file[f'{insertion_path}/spectrometer1/timestamps'][index]\n",
    "        timestamp = pd.Timestamp(time, unit='us')\n",
    "        return timestamp\n",
    "    \n",
    "def compute_3D_distance(x1, y1, z1, x2, y2, z2):\n",
    "    distance = math.sqrt((x1 - x2)**2 + (y1 - y2)**2 + (z1 - z2)**2)\n",
    "    return distance\n",
    "\n",
    "def calculate_wavenumbers_from_wavelengths(wavelength_vector):\n",
    "    return 10000000/wavelength_vector\n",
    "\n",
    "def put_spectrum_in_wavenum_order(spectrum):\n",
    "    return np.flip(spectrum)"
   ]
  },
  {
   "cell_type": "code",
   "execution_count": 7,
   "id": "f868964b-1e3f-47c2-955d-3ccb53f49bb2",
   "metadata": {},
   "outputs": [],
   "source": [
    "# I have chosen to use data from 4/30/21\n",
    "\n",
    "path_name = \"/Users/linda/OneDrive/Documents/S4_mine_p/Projects/Data_collected/\"\n",
    "\n",
    "df = pd.read_csv('data/white_insertions_210503.csv')\n",
    "date = '4/30/21'\n",
    "date_df = df.loc[df['date'] == date].copy()\n",
    "\n",
    "# this part retrieves the relevant data\n",
    "insertions_df = pd.DataFrame()\n",
    "for index in date_df.index.values:\n",
    "    \n",
    "    file_name = date_df['file_name'][index]\n",
    "    file = path_name + file_name\n",
    "    cal_path = date_df['session'][index] + \"/\" + date_df['calibration'][index]\n",
    "    insertion_path = cal_path + \"/\" + date_df['insertion'][index]\n",
    "    raw_spectra = get_ftir_insertion_raw_spectra(file, insertion_path)\n",
    "    absorbances = get_ftir_insertion_absorbances(file, insertion_path)\n",
    "    timestamps = get_ftir_insertion_timestamps(file, insertion_path)\n",
    "    waves = get_ftir_wavelength_vector(file, cal_path)\n",
    "    columns = np.arange(0, waves.shape[0], 1)\n",
    "\n",
    "    # this gets the timestamps in Timestamp format\n",
    "    ts = []\n",
    "    for i in range(timestamps.shape[0]):\n",
    "        timestamp = pd.Timestamp(timestamps[i], unit='us')\n",
    "        ts.append(timestamp)\n",
    "\n",
    "        \n",
    "    insertion_df = pd.DataFrame(data=raw_spectra, index=ts, columns=columns, dtype=float)\n",
    "    insertions_df = pd.concat([insertions_df, insertion_df])\n"
   ]
  },
  {
   "cell_type": "code",
   "execution_count": 14,
   "id": "60386801-6498-4bab-b12e-a6533dfb822a",
   "metadata": {},
   "outputs": [
    {
     "data": {
      "image/png": "[encoded data removed]",
      "text/plain": [
       "<Figure size 1080x1080 with 1 Axes>"
      ]
     },
     "metadata": {
      "needs_background": "light"
     },
     "output_type": "display_data"
    }
   ],
   "source": [
    "fig, ax = plt.subplots(figsize=(15, 15))\n",
    "locator = mdates.AutoDateLocator()\n",
    "formatter = mdates.ConciseDateFormatter(locator)\n",
    "ax.set_title(f'White blank raw values at selected wavelengths with time, {date}')\n",
    "ax.xaxis.set_major_locator(locator)\n",
    "ax.xaxis.set_major_formatter(formatter)\n",
    "# ax.set_ylim(-0.2, 0.2)\n",
    "for i in range(100, 700, 100):\n",
    "    median = insertions_df[i].median()\n",
    "    ax.plot(insertions_df[i], \"o\", label=f'{waves[i]:0.1f} nm')\n",
    "ax.legend()\n",
    "plt.show()\n",
    "plt.close()"
   ]
  },
  {
   "cell_type": "code",
   "execution_count": 37,
   "id": "14ddbde4-f1af-44c8-ae1e-78f70d28d16e",
   "metadata": {},
   "outputs": [
    {
     "ename": "ValueError",
     "evalue": "298    c043\n299    c043\n300    c043\n301    c043\n302    c043\n       ... \n380    c051\n381    c051\n382    c051\n383    c051\n384    c051\nName: c_unique, Length: 87, dtype: object is not a valid value for color",
     "output_type": "error",
     "traceback": [
      "\u001b[0;31m---------------------------------------------------------------------------\u001b[0m",
      "\u001b[0;31mValueError\u001b[0m                                Traceback (most recent call last)",
      "\u001b[0;32m<ipython-input-37-72424d2c6a43>\u001b[0m in \u001b[0;36m<module>\u001b[0;34m\u001b[0m\n\u001b[1;32m      7\u001b[0m \u001b[0;31m# ax.set_ylim(-0.2, 0.2)\u001b[0m\u001b[0;34m\u001b[0m\u001b[0;34m\u001b[0m\u001b[0;34m\u001b[0m\u001b[0m\n\u001b[1;32m      8\u001b[0m \u001b[0mcolors\u001b[0m\u001b[0;34m=\u001b[0m\u001b[0;34m[\u001b[0m\u001b[0;34m'r'\u001b[0m\u001b[0;34m,\u001b[0m \u001b[0;34m'g'\u001b[0m\u001b[0;34m,\u001b[0m \u001b[0;34m'b'\u001b[0m\u001b[0;34m,\u001b[0m \u001b[0;34m'c'\u001b[0m\u001b[0;34m,\u001b[0m \u001b[0;34m'm'\u001b[0m\u001b[0;34m,\u001b[0m \u001b[0;34m'y'\u001b[0m\u001b[0;34m,\u001b[0m \u001b[0;34m'k'\u001b[0m\u001b[0;34m,\u001b[0m \u001b[0;34m'orange'\u001b[0m\u001b[0;34m,\u001b[0m \u001b[0;34m'maroon'\u001b[0m\u001b[0;34m]\u001b[0m\u001b[0;34m\u001b[0m\u001b[0;34m\u001b[0m\u001b[0m\n\u001b[0;32m----> 9\u001b[0;31m \u001b[0max\u001b[0m\u001b[0;34m.\u001b[0m\u001b[0mplot\u001b[0m\u001b[0;34m(\u001b[0m\u001b[0minsertions_df\u001b[0m\u001b[0;34m[\u001b[0m\u001b[0;36m500\u001b[0m\u001b[0;34m]\u001b[0m\u001b[0;34m,\u001b[0m \u001b[0mc\u001b[0m\u001b[0;34m=\u001b[0m\u001b[0mdate_df\u001b[0m\u001b[0;34m[\u001b[0m\u001b[0;34m'c_unique'\u001b[0m\u001b[0;34m]\u001b[0m\u001b[0;34m,\u001b[0m \u001b[0mcmap\u001b[0m\u001b[0;34m=\u001b[0m\u001b[0mmatplotlib\u001b[0m\u001b[0;34m.\u001b[0m\u001b[0mcolors\u001b[0m\u001b[0;34m.\u001b[0m\u001b[0mListedColormap\u001b[0m\u001b[0;34m(\u001b[0m\u001b[0mcolors\u001b[0m\u001b[0;34m)\u001b[0m\u001b[0;34m)\u001b[0m\u001b[0;34m\u001b[0m\u001b[0;34m\u001b[0m\u001b[0m\n\u001b[0m\u001b[1;32m     10\u001b[0m \u001b[0;34m\u001b[0m\u001b[0m\n\u001b[1;32m     11\u001b[0m \u001b[0;31m# ax.legend()\u001b[0m\u001b[0;34m\u001b[0m\u001b[0;34m\u001b[0m\u001b[0;34m\u001b[0m\u001b[0m\n",
      "\u001b[0;32m~/opt/miniconda3/envs/ds3/lib/python3.8/site-packages/matplotlib/axes/_axes.py\u001b[0m in \u001b[0;36mplot\u001b[0;34m(self, scalex, scaley, data, *args, **kwargs)\u001b[0m\n\u001b[1;32m   1603\u001b[0m         \"\"\"\n\u001b[1;32m   1604\u001b[0m         \u001b[0mkwargs\u001b[0m \u001b[0;34m=\u001b[0m \u001b[0mcbook\u001b[0m\u001b[0;34m.\u001b[0m\u001b[0mnormalize_kwargs\u001b[0m\u001b[0;34m(\u001b[0m\u001b[0mkwargs\u001b[0m\u001b[0;34m,\u001b[0m \u001b[0mmlines\u001b[0m\u001b[0;34m.\u001b[0m\u001b[0mLine2D\u001b[0m\u001b[0;34m)\u001b[0m\u001b[0;34m\u001b[0m\u001b[0;34m\u001b[0m\u001b[0m\n\u001b[0;32m-> 1605\u001b[0;31m         \u001b[0mlines\u001b[0m \u001b[0;34m=\u001b[0m \u001b[0;34m[\u001b[0m\u001b[0;34m*\u001b[0m\u001b[0mself\u001b[0m\u001b[0;34m.\u001b[0m\u001b[0m_get_lines\u001b[0m\u001b[0;34m(\u001b[0m\u001b[0;34m*\u001b[0m\u001b[0margs\u001b[0m\u001b[0;34m,\u001b[0m \u001b[0mdata\u001b[0m\u001b[0;34m=\u001b[0m\u001b[0mdata\u001b[0m\u001b[0;34m,\u001b[0m \u001b[0;34m**\u001b[0m\u001b[0mkwargs\u001b[0m\u001b[0;34m)\u001b[0m\u001b[0;34m]\u001b[0m\u001b[0;34m\u001b[0m\u001b[0;34m\u001b[0m\u001b[0m\n\u001b[0m\u001b[1;32m   1606\u001b[0m         \u001b[0;32mfor\u001b[0m \u001b[0mline\u001b[0m \u001b[0;32min\u001b[0m \u001b[0mlines\u001b[0m\u001b[0;34m:\u001b[0m\u001b[0;34m\u001b[0m\u001b[0;34m\u001b[0m\u001b[0m\n\u001b[1;32m   1607\u001b[0m             \u001b[0mself\u001b[0m\u001b[0;34m.\u001b[0m\u001b[0madd_line\u001b[0m\u001b[0;34m(\u001b[0m\u001b[0mline\u001b[0m\u001b[0;34m)\u001b[0m\u001b[0;34m\u001b[0m\u001b[0;34m\u001b[0m\u001b[0m\n",
      "\u001b[0;32m~/opt/miniconda3/envs/ds3/lib/python3.8/site-packages/matplotlib/axes/_base.py\u001b[0m in \u001b[0;36m__call__\u001b[0;34m(self, data, *args, **kwargs)\u001b[0m\n\u001b[1;32m    313\u001b[0m                 \u001b[0mthis\u001b[0m \u001b[0;34m+=\u001b[0m \u001b[0margs\u001b[0m\u001b[0;34m[\u001b[0m\u001b[0;36m0\u001b[0m\u001b[0;34m]\u001b[0m\u001b[0;34m,\u001b[0m\u001b[0;34m\u001b[0m\u001b[0;34m\u001b[0m\u001b[0m\n\u001b[1;32m    314\u001b[0m                 \u001b[0margs\u001b[0m \u001b[0;34m=\u001b[0m \u001b[0margs\u001b[0m\u001b[0;34m[\u001b[0m\u001b[0;36m1\u001b[0m\u001b[0;34m:\u001b[0m\u001b[0;34m]\u001b[0m\u001b[0;34m\u001b[0m\u001b[0;34m\u001b[0m\u001b[0m\n\u001b[0;32m--> 315\u001b[0;31m             \u001b[0;32myield\u001b[0m \u001b[0;32mfrom\u001b[0m \u001b[0mself\u001b[0m\u001b[0;34m.\u001b[0m\u001b[0m_plot_args\u001b[0m\u001b[0;34m(\u001b[0m\u001b[0mthis\u001b[0m\u001b[0;34m,\u001b[0m \u001b[0mkwargs\u001b[0m\u001b[0;34m)\u001b[0m\u001b[0;34m\u001b[0m\u001b[0;34m\u001b[0m\u001b[0m\n\u001b[0m\u001b[1;32m    316\u001b[0m \u001b[0;34m\u001b[0m\u001b[0m\n\u001b[1;32m    317\u001b[0m     \u001b[0;32mdef\u001b[0m \u001b[0mget_next_color\u001b[0m\u001b[0;34m(\u001b[0m\u001b[0mself\u001b[0m\u001b[0;34m)\u001b[0m\u001b[0;34m:\u001b[0m\u001b[0;34m\u001b[0m\u001b[0;34m\u001b[0m\u001b[0m\n",
      "\u001b[0;32m~/opt/miniconda3/envs/ds3/lib/python3.8/site-packages/matplotlib/axes/_base.py\u001b[0m in \u001b[0;36m_plot_args\u001b[0;34m(self, tup, kwargs, return_kwargs)\u001b[0m\n\u001b[1;32m    537\u001b[0m             \u001b[0;32mreturn\u001b[0m \u001b[0mlist\u001b[0m\u001b[0;34m(\u001b[0m\u001b[0mresult\u001b[0m\u001b[0;34m)\u001b[0m\u001b[0;34m\u001b[0m\u001b[0;34m\u001b[0m\u001b[0m\n\u001b[1;32m    538\u001b[0m         \u001b[0;32melse\u001b[0m\u001b[0;34m:\u001b[0m\u001b[0;34m\u001b[0m\u001b[0;34m\u001b[0m\u001b[0m\n\u001b[0;32m--> 539\u001b[0;31m             \u001b[0;32mreturn\u001b[0m \u001b[0;34m[\u001b[0m\u001b[0ml\u001b[0m\u001b[0;34m[\u001b[0m\u001b[0;36m0\u001b[0m\u001b[0;34m]\u001b[0m \u001b[0;32mfor\u001b[0m \u001b[0ml\u001b[0m \u001b[0;32min\u001b[0m \u001b[0mresult\u001b[0m\u001b[0;34m]\u001b[0m\u001b[0;34m\u001b[0m\u001b[0;34m\u001b[0m\u001b[0m\n\u001b[0m\u001b[1;32m    540\u001b[0m \u001b[0;34m\u001b[0m\u001b[0m\n\u001b[1;32m    541\u001b[0m \u001b[0;34m\u001b[0m\u001b[0m\n",
      "\u001b[0;32m~/opt/miniconda3/envs/ds3/lib/python3.8/site-packages/matplotlib/axes/_base.py\u001b[0m in \u001b[0;36m<listcomp>\u001b[0;34m(.0)\u001b[0m\n\u001b[1;32m    537\u001b[0m             \u001b[0;32mreturn\u001b[0m \u001b[0mlist\u001b[0m\u001b[0;34m(\u001b[0m\u001b[0mresult\u001b[0m\u001b[0;34m)\u001b[0m\u001b[0;34m\u001b[0m\u001b[0;34m\u001b[0m\u001b[0m\n\u001b[1;32m    538\u001b[0m         \u001b[0;32melse\u001b[0m\u001b[0;34m:\u001b[0m\u001b[0;34m\u001b[0m\u001b[0;34m\u001b[0m\u001b[0m\n\u001b[0;32m--> 539\u001b[0;31m             \u001b[0;32mreturn\u001b[0m \u001b[0;34m[\u001b[0m\u001b[0ml\u001b[0m\u001b[0;34m[\u001b[0m\u001b[0;36m0\u001b[0m\u001b[0;34m]\u001b[0m \u001b[0;32mfor\u001b[0m \u001b[0ml\u001b[0m \u001b[0;32min\u001b[0m \u001b[0mresult\u001b[0m\u001b[0;34m]\u001b[0m\u001b[0;34m\u001b[0m\u001b[0;34m\u001b[0m\u001b[0m\n\u001b[0m\u001b[1;32m    540\u001b[0m \u001b[0;34m\u001b[0m\u001b[0m\n\u001b[1;32m    541\u001b[0m \u001b[0;34m\u001b[0m\u001b[0m\n",
      "\u001b[0;32m~/opt/miniconda3/envs/ds3/lib/python3.8/site-packages/matplotlib/axes/_base.py\u001b[0m in \u001b[0;36m<genexpr>\u001b[0;34m(.0)\u001b[0m\n\u001b[1;32m    530\u001b[0m             \u001b[0mlabels\u001b[0m \u001b[0;34m=\u001b[0m \u001b[0;34m[\u001b[0m\u001b[0mlabel\u001b[0m\u001b[0;34m]\u001b[0m \u001b[0;34m*\u001b[0m \u001b[0mn_datasets\u001b[0m\u001b[0;34m\u001b[0m\u001b[0;34m\u001b[0m\u001b[0m\n\u001b[1;32m    531\u001b[0m \u001b[0;34m\u001b[0m\u001b[0m\n\u001b[0;32m--> 532\u001b[0;31m         result = (make_artist(x[:, j % ncx], y[:, j % ncy], kw,\n\u001b[0m\u001b[1;32m    533\u001b[0m                               {**kwargs, 'label': label})\n\u001b[1;32m    534\u001b[0m                   for j, label in enumerate(labels))\n",
      "\u001b[0;32m~/opt/miniconda3/envs/ds3/lib/python3.8/site-packages/matplotlib/axes/_base.py\u001b[0m in \u001b[0;36m_makeline\u001b[0;34m(self, x, y, kw, kwargs)\u001b[0m\n\u001b[1;32m    352\u001b[0m         \u001b[0mdefault_dict\u001b[0m \u001b[0;34m=\u001b[0m \u001b[0mself\u001b[0m\u001b[0;34m.\u001b[0m\u001b[0m_getdefaults\u001b[0m\u001b[0;34m(\u001b[0m\u001b[0mset\u001b[0m\u001b[0;34m(\u001b[0m\u001b[0;34m)\u001b[0m\u001b[0;34m,\u001b[0m \u001b[0mkw\u001b[0m\u001b[0;34m)\u001b[0m\u001b[0;34m\u001b[0m\u001b[0;34m\u001b[0m\u001b[0m\n\u001b[1;32m    353\u001b[0m         \u001b[0mself\u001b[0m\u001b[0;34m.\u001b[0m\u001b[0m_setdefaults\u001b[0m\u001b[0;34m(\u001b[0m\u001b[0mdefault_dict\u001b[0m\u001b[0;34m,\u001b[0m \u001b[0mkw\u001b[0m\u001b[0;34m)\u001b[0m\u001b[0;34m\u001b[0m\u001b[0;34m\u001b[0m\u001b[0m\n\u001b[0;32m--> 354\u001b[0;31m         \u001b[0mseg\u001b[0m \u001b[0;34m=\u001b[0m \u001b[0mmlines\u001b[0m\u001b[0;34m.\u001b[0m\u001b[0mLine2D\u001b[0m\u001b[0;34m(\u001b[0m\u001b[0mx\u001b[0m\u001b[0;34m,\u001b[0m \u001b[0my\u001b[0m\u001b[0;34m,\u001b[0m \u001b[0;34m**\u001b[0m\u001b[0mkw\u001b[0m\u001b[0;34m)\u001b[0m\u001b[0;34m\u001b[0m\u001b[0;34m\u001b[0m\u001b[0m\n\u001b[0m\u001b[1;32m    355\u001b[0m         \u001b[0;32mreturn\u001b[0m \u001b[0mseg\u001b[0m\u001b[0;34m,\u001b[0m \u001b[0mkw\u001b[0m\u001b[0;34m\u001b[0m\u001b[0;34m\u001b[0m\u001b[0m\n\u001b[1;32m    356\u001b[0m \u001b[0;34m\u001b[0m\u001b[0m\n",
      "\u001b[0;32m~/opt/miniconda3/envs/ds3/lib/python3.8/site-packages/matplotlib/lines.py\u001b[0m in \u001b[0;36m__init__\u001b[0;34m(self, xdata, ydata, linewidth, linestyle, color, marker, markersize, markeredgewidth, markeredgecolor, markerfacecolor, markerfacecoloralt, fillstyle, antialiased, dash_capstyle, solid_capstyle, dash_joinstyle, solid_joinstyle, pickradius, drawstyle, markevery, **kwargs)\u001b[0m\n\u001b[1;32m    372\u001b[0m \u001b[0;34m\u001b[0m\u001b[0m\n\u001b[1;32m    373\u001b[0m         \u001b[0mself\u001b[0m\u001b[0;34m.\u001b[0m\u001b[0m_color\u001b[0m \u001b[0;34m=\u001b[0m \u001b[0;32mNone\u001b[0m\u001b[0;34m\u001b[0m\u001b[0;34m\u001b[0m\u001b[0m\n\u001b[0;32m--> 374\u001b[0;31m         \u001b[0mself\u001b[0m\u001b[0;34m.\u001b[0m\u001b[0mset_color\u001b[0m\u001b[0;34m(\u001b[0m\u001b[0mcolor\u001b[0m\u001b[0;34m)\u001b[0m\u001b[0;34m\u001b[0m\u001b[0;34m\u001b[0m\u001b[0m\n\u001b[0m\u001b[1;32m    375\u001b[0m         \u001b[0mself\u001b[0m\u001b[0;34m.\u001b[0m\u001b[0m_marker\u001b[0m \u001b[0;34m=\u001b[0m \u001b[0mMarkerStyle\u001b[0m\u001b[0;34m(\u001b[0m\u001b[0mmarker\u001b[0m\u001b[0;34m,\u001b[0m \u001b[0mfillstyle\u001b[0m\u001b[0;34m)\u001b[0m\u001b[0;34m\u001b[0m\u001b[0;34m\u001b[0m\u001b[0m\n\u001b[1;32m    376\u001b[0m \u001b[0;34m\u001b[0m\u001b[0m\n",
      "\u001b[0;32m~/opt/miniconda3/envs/ds3/lib/python3.8/site-packages/matplotlib/lines.py\u001b[0m in \u001b[0;36mset_color\u001b[0;34m(self, color)\u001b[0m\n\u001b[1;32m   1052\u001b[0m         \"\"\"\n\u001b[1;32m   1053\u001b[0m         \u001b[0;32mif\u001b[0m \u001b[0;32mnot\u001b[0m \u001b[0mcbook\u001b[0m\u001b[0;34m.\u001b[0m\u001b[0m_str_equal\u001b[0m\u001b[0;34m(\u001b[0m\u001b[0mcolor\u001b[0m\u001b[0;34m,\u001b[0m \u001b[0;34m'auto'\u001b[0m\u001b[0;34m)\u001b[0m\u001b[0;34m:\u001b[0m\u001b[0;34m\u001b[0m\u001b[0;34m\u001b[0m\u001b[0m\n\u001b[0;32m-> 1054\u001b[0;31m             \u001b[0mmcolors\u001b[0m\u001b[0;34m.\u001b[0m\u001b[0m_check_color_like\u001b[0m\u001b[0;34m(\u001b[0m\u001b[0mcolor\u001b[0m\u001b[0;34m=\u001b[0m\u001b[0mcolor\u001b[0m\u001b[0;34m)\u001b[0m\u001b[0;34m\u001b[0m\u001b[0;34m\u001b[0m\u001b[0m\n\u001b[0m\u001b[1;32m   1055\u001b[0m         \u001b[0mself\u001b[0m\u001b[0;34m.\u001b[0m\u001b[0m_color\u001b[0m \u001b[0;34m=\u001b[0m \u001b[0mcolor\u001b[0m\u001b[0;34m\u001b[0m\u001b[0;34m\u001b[0m\u001b[0m\n\u001b[1;32m   1056\u001b[0m         \u001b[0mself\u001b[0m\u001b[0;34m.\u001b[0m\u001b[0mstale\u001b[0m \u001b[0;34m=\u001b[0m \u001b[0;32mTrue\u001b[0m\u001b[0;34m\u001b[0m\u001b[0;34m\u001b[0m\u001b[0m\n",
      "\u001b[0;32m~/opt/miniconda3/envs/ds3/lib/python3.8/site-packages/matplotlib/colors.py\u001b[0m in \u001b[0;36m_check_color_like\u001b[0;34m(**kwargs)\u001b[0m\n\u001b[1;32m    154\u001b[0m     \u001b[0;32mfor\u001b[0m \u001b[0mk\u001b[0m\u001b[0;34m,\u001b[0m \u001b[0mv\u001b[0m \u001b[0;32min\u001b[0m \u001b[0mkwargs\u001b[0m\u001b[0;34m.\u001b[0m\u001b[0mitems\u001b[0m\u001b[0;34m(\u001b[0m\u001b[0;34m)\u001b[0m\u001b[0;34m:\u001b[0m\u001b[0;34m\u001b[0m\u001b[0;34m\u001b[0m\u001b[0m\n\u001b[1;32m    155\u001b[0m         \u001b[0;32mif\u001b[0m \u001b[0;32mnot\u001b[0m \u001b[0mis_color_like\u001b[0m\u001b[0;34m(\u001b[0m\u001b[0mv\u001b[0m\u001b[0;34m)\u001b[0m\u001b[0;34m:\u001b[0m\u001b[0;34m\u001b[0m\u001b[0;34m\u001b[0m\u001b[0m\n\u001b[0;32m--> 156\u001b[0;31m             \u001b[0;32mraise\u001b[0m \u001b[0mValueError\u001b[0m\u001b[0;34m(\u001b[0m\u001b[0;34mf\"{v!r} is not a valid value for {k}\"\u001b[0m\u001b[0;34m)\u001b[0m\u001b[0;34m\u001b[0m\u001b[0;34m\u001b[0m\u001b[0m\n\u001b[0m\u001b[1;32m    157\u001b[0m \u001b[0;34m\u001b[0m\u001b[0m\n\u001b[1;32m    158\u001b[0m \u001b[0;34m\u001b[0m\u001b[0m\n",
      "\u001b[0;31mValueError\u001b[0m: 298    c043\n299    c043\n300    c043\n301    c043\n302    c043\n       ... \n380    c051\n381    c051\n382    c051\n383    c051\n384    c051\nName: c_unique, Length: 87, dtype: object is not a valid value for color"
     ]
    },
    {
     "data": {
      "image/png": "[encoded data removed]",
      "text/plain": [
       "<Figure size 1080x1080 with 1 Axes>"
      ]
     },
     "metadata": {
      "needs_background": "light"
     },
     "output_type": "display_data"
    }
   ],
   "source": [
    "\n",
    "fig, ax = plt.subplots(figsize=(15, 15))\n",
    "locator = mdates.AutoDateLocator()\n",
    "formatter = mdates.ConciseDateFormatter(locator)\n",
    "ax.set_title(f'White blank raw values at selected wavelengths with time, {date}')\n",
    "ax.xaxis.set_major_locator(locator)\n",
    "ax.xaxis.set_major_formatter(formatter)\n",
    "# ax.set_ylim(-0.2, 0.2)\n",
    "colors=['r', 'g', 'b', 'c', 'm', 'y', 'k', 'orange', 'maroon']\n",
    "ax.plot(insertions_df[500], c=date_df['c_unique'], cmap=matplotlib.colors.ListedColormap(colors))\n",
    "\n",
    "# ax.legend()\n",
    "plt.show()\n",
    "plt.close()"
   ]
  },
  {
   "cell_type": "code",
   "execution_count": 17,
   "id": "c055c80b-6764-4a24-8ac2-7f962545a844",
   "metadata": {},
   "outputs": [
    {
     "data": {
      "text/html": [
       "<div>\n",
       "<style scoped>\n",
       "    .dataframe tbody tr th:only-of-type {\n",
       "        vertical-align: middle;\n",
       "    }\n",
       "\n",
       "    .dataframe tbody tr th {\n",
       "        vertical-align: top;\n",
       "    }\n",
       "\n",
       "    .dataframe thead th {\n",
       "        text-align: right;\n",
       "    }\n",
       "</style>\n",
       "<table border=\"1\" class=\"dataframe\">\n",
       "  <thead>\n",
       "    <tr style=\"text-align: right;\">\n",
       "      <th></th>\n",
       "      <th>file_name</th>\n",
       "      <th>date</th>\n",
       "      <th>session</th>\n",
       "      <th>calibration</th>\n",
       "      <th>insertion</th>\n",
       "      <th>c_unique</th>\n",
       "      <th>i_in_c</th>\n",
       "      <th>i_unique</th>\n",
       "      <th>conditions</th>\n",
       "    </tr>\n",
       "  </thead>\n",
       "  <tbody>\n",
       "    <tr>\n",
       "      <th>298</th>\n",
       "      <td>210430_green_tests/green_testing_210430.h5</td>\n",
       "      <td>4/30/21</td>\n",
       "      <td>session001</td>\n",
       "      <td>cal001</td>\n",
       "      <td>ins001</td>\n",
       "      <td>c043</td>\n",
       "      <td>i01</td>\n",
       "      <td>c043i01</td>\n",
       "      <td>outside lamp warming</td>\n",
       "    </tr>\n",
       "    <tr>\n",
       "      <th>299</th>\n",
       "      <td>210430_green_tests/green_testing_210430.h5</td>\n",
       "      <td>4/30/21</td>\n",
       "      <td>session001</td>\n",
       "      <td>cal001</td>\n",
       "      <td>ins002</td>\n",
       "      <td>c043</td>\n",
       "      <td>i02</td>\n",
       "      <td>c043i02</td>\n",
       "      <td>outside lamp warming</td>\n",
       "    </tr>\n",
       "    <tr>\n",
       "      <th>300</th>\n",
       "      <td>210430_green_tests/green_testing_210430.h5</td>\n",
       "      <td>4/30/21</td>\n",
       "      <td>session001</td>\n",
       "      <td>cal001</td>\n",
       "      <td>ins003</td>\n",
       "      <td>c043</td>\n",
       "      <td>i03</td>\n",
       "      <td>c043i03</td>\n",
       "      <td>outside lamp warming</td>\n",
       "    </tr>\n",
       "    <tr>\n",
       "      <th>301</th>\n",
       "      <td>210430_green_tests/green_testing_210430.h5</td>\n",
       "      <td>4/30/21</td>\n",
       "      <td>session001</td>\n",
       "      <td>cal001</td>\n",
       "      <td>ins004</td>\n",
       "      <td>c043</td>\n",
       "      <td>i04</td>\n",
       "      <td>c043i04</td>\n",
       "      <td>outside lamp warming</td>\n",
       "    </tr>\n",
       "    <tr>\n",
       "      <th>302</th>\n",
       "      <td>210430_green_tests/green_testing_210430.h5</td>\n",
       "      <td>4/30/21</td>\n",
       "      <td>session001</td>\n",
       "      <td>cal001</td>\n",
       "      <td>ins005</td>\n",
       "      <td>c043</td>\n",
       "      <td>i05</td>\n",
       "      <td>c043i05</td>\n",
       "      <td>outside lamp warming</td>\n",
       "    </tr>\n",
       "    <tr>\n",
       "      <th>...</th>\n",
       "      <td>...</td>\n",
       "      <td>...</td>\n",
       "      <td>...</td>\n",
       "      <td>...</td>\n",
       "      <td>...</td>\n",
       "      <td>...</td>\n",
       "      <td>...</td>\n",
       "      <td>...</td>\n",
       "      <td>...</td>\n",
       "    </tr>\n",
       "    <tr>\n",
       "      <th>380</th>\n",
       "      <td>210430_green_tests/green_testing_210430.h5</td>\n",
       "      <td>4/30/21</td>\n",
       "      <td>session003</td>\n",
       "      <td>cal003</td>\n",
       "      <td>ins026</td>\n",
       "      <td>c051</td>\n",
       "      <td>i06</td>\n",
       "      <td>c051i06</td>\n",
       "      <td>inside</td>\n",
       "    </tr>\n",
       "    <tr>\n",
       "      <th>381</th>\n",
       "      <td>210430_green_tests/green_testing_210430.h5</td>\n",
       "      <td>4/30/21</td>\n",
       "      <td>session003</td>\n",
       "      <td>cal003</td>\n",
       "      <td>ins027</td>\n",
       "      <td>c051</td>\n",
       "      <td>i07</td>\n",
       "      <td>c051i07</td>\n",
       "      <td>inside</td>\n",
       "    </tr>\n",
       "    <tr>\n",
       "      <th>382</th>\n",
       "      <td>210430_green_tests/green_testing_210430.h5</td>\n",
       "      <td>4/30/21</td>\n",
       "      <td>session003</td>\n",
       "      <td>cal003</td>\n",
       "      <td>ins028</td>\n",
       "      <td>c051</td>\n",
       "      <td>i08</td>\n",
       "      <td>c051i08</td>\n",
       "      <td>inside</td>\n",
       "    </tr>\n",
       "    <tr>\n",
       "      <th>383</th>\n",
       "      <td>210430_green_tests/green_testing_210430.h5</td>\n",
       "      <td>4/30/21</td>\n",
       "      <td>session003</td>\n",
       "      <td>cal003</td>\n",
       "      <td>ins029</td>\n",
       "      <td>c051</td>\n",
       "      <td>i09</td>\n",
       "      <td>c051i09</td>\n",
       "      <td>inside</td>\n",
       "    </tr>\n",
       "    <tr>\n",
       "      <th>384</th>\n",
       "      <td>210430_green_tests/green_testing_210430.h5</td>\n",
       "      <td>4/30/21</td>\n",
       "      <td>session003</td>\n",
       "      <td>cal003</td>\n",
       "      <td>ins030</td>\n",
       "      <td>c051</td>\n",
       "      <td>i10</td>\n",
       "      <td>c051i10</td>\n",
       "      <td>inside</td>\n",
       "    </tr>\n",
       "  </tbody>\n",
       "</table>\n",
       "<p>87 rows × 9 columns</p>\n",
       "</div>"
      ],
      "text/plain": [
       "                                      file_name     date     session  \\\n",
       "298  210430_green_tests/green_testing_210430.h5  4/30/21  session001   \n",
       "299  210430_green_tests/green_testing_210430.h5  4/30/21  session001   \n",
       "300  210430_green_tests/green_testing_210430.h5  4/30/21  session001   \n",
       "301  210430_green_tests/green_testing_210430.h5  4/30/21  session001   \n",
       "302  210430_green_tests/green_testing_210430.h5  4/30/21  session001   \n",
       "..                                          ...      ...         ...   \n",
       "380  210430_green_tests/green_testing_210430.h5  4/30/21  session003   \n",
       "381  210430_green_tests/green_testing_210430.h5  4/30/21  session003   \n",
       "382  210430_green_tests/green_testing_210430.h5  4/30/21  session003   \n",
       "383  210430_green_tests/green_testing_210430.h5  4/30/21  session003   \n",
       "384  210430_green_tests/green_testing_210430.h5  4/30/21  session003   \n",
       "\n",
       "    calibration insertion c_unique i_in_c i_unique            conditions  \n",
       "298      cal001    ins001     c043    i01  c043i01  outside lamp warming  \n",
       "299      cal001    ins002     c043    i02  c043i02  outside lamp warming  \n",
       "300      cal001    ins003     c043    i03  c043i03  outside lamp warming  \n",
       "301      cal001    ins004     c043    i04  c043i04  outside lamp warming  \n",
       "302      cal001    ins005     c043    i05  c043i05  outside lamp warming  \n",
       "..          ...       ...      ...    ...      ...                   ...  \n",
       "380      cal003    ins026     c051    i06  c051i06                inside  \n",
       "381      cal003    ins027     c051    i07  c051i07                inside  \n",
       "382      cal003    ins028     c051    i08  c051i08                inside  \n",
       "383      cal003    ins029     c051    i09  c051i09                inside  \n",
       "384      cal003    ins030     c051    i10  c051i10                inside  \n",
       "\n",
       "[87 rows x 9 columns]"
      ]
     },
     "execution_count": 17,
     "metadata": {},
     "output_type": "execute_result"
    }
   ],
   "source": [
    "date_df"
   ]
  },
  {
   "cell_type": "code",
   "execution_count": 24,
   "id": "eb56f008-6916-461d-9bc1-8789226c9772",
   "metadata": {},
   "outputs": [],
   "source": [
    "calibrations = date_df['c_unique'].unique()"
   ]
  },
  {
   "cell_type": "code",
   "execution_count": 25,
   "id": "026590e7-9b3f-43a9-887a-c184c02f5ac0",
   "metadata": {},
   "outputs": [
    {
     "data": {
      "text/plain": [
       "array(['c043', 'c044', 'c045', 'c046', 'c047', 'c048', 'c049', 'c050',\n",
       "       'c051'], dtype=object)"
      ]
     },
     "execution_count": 25,
     "metadata": {},
     "output_type": "execute_result"
    }
   ],
   "source": [
    "calibrations"
   ]
  },
  {
   "cell_type": "code",
   "execution_count": 29,
   "id": "80eb442b-52f7-49f8-8a09-1ba317b1ed2a",
   "metadata": {},
   "outputs": [],
   "source": [
    "groups = date_df.groupby('c_unique')"
   ]
  },
  {
   "cell_type": "code",
   "execution_count": 30,
   "id": "29511b80-2b31-458f-bc27-9f8eb8cd55de",
   "metadata": {},
   "outputs": [
    {
     "data": {
      "text/plain": [
       "<pandas.core.groupby.generic.DataFrameGroupBy object at 0x7f8b81e839a0>"
      ]
     },
     "execution_count": 30,
     "metadata": {},
     "output_type": "execute_result"
    }
   ],
   "source": [
    "groups"
   ]
  },
  {
   "cell_type": "code",
   "execution_count": 31,
   "id": "dc84284a-5305-4af2-90fe-382e91c6bc99",
   "metadata": {},
   "outputs": [
    {
     "data": {
      "image/png": "[encoded data removed]",
      "text/plain": [
       "<Figure size 432x288 with 1 Axes>"
      ]
     },
     "metadata": {
      "needs_background": "light"
     },
     "output_type": "display_data"
    }
   ],
   "source": [
    "for group in groups:\n",
    "    plt.plot(insertions_df[500], \"o\")"
   ]
  },
  {
   "cell_type": "code",
   "execution_count": 38,
   "id": "b4d56c5b-714c-4f1a-ac96-04c2b2a4cb0f",
   "metadata": {},
   "outputs": [
    {
     "data": {
      "text/plain": [
       "(5220, 700)"
      ]
     },
     "execution_count": 38,
     "metadata": {},
     "output_type": "execute_result"
    }
   ],
   "source": [
    "insertions_df.shape"
   ]
  },
  {
   "cell_type": "code",
   "execution_count": 39,
   "id": "9d5cf2be-2d63-48ba-9a8d-0d4788a1a36a",
   "metadata": {},
   "outputs": [
    {
     "data": {
      "text/plain": [
       "(87, 9)"
      ]
     },
     "execution_count": 39,
     "metadata": {},
     "output_type": "execute_result"
    }
   ],
   "source": [
    "date_df.shape"
   ]
  },
  {
   "cell_type": "code",
   "execution_count": null,
   "id": "642122e7-de01-4b78-8ab9-78434c031650",
   "metadata": {},
   "outputs": [],
   "source": []
  }
 ],
 "metadata": {
  "kernelspec": {
   "display_name": "Python (ds3)",
   "language": "python",
   "name": "ds3"
  },
  "language_info": {
   "codemirror_mode": {
    "name": "ipython",
    "version": 3
   },
   "file_extension": ".py",
   "mimetype": "text/x-python",
   "name": "python",
   "nbconvert_exporter": "python",
   "pygments_lexer": "ipython3",
   "version": "3.8.6"
  }
 },
 "nbformat": 4,
 "nbformat_minor": 5
}
