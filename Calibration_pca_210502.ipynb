{
 "cells": [
  {
   "cell_type": "code",
   "execution_count": 1,
   "id": "8d4feb67-530d-4753-9417-1a49914cdbda",
   "metadata": {},
   "outputs": [],
   "source": [
    "import pandas as pd\n",
    "import numpy as np\n",
    "import h5py\n",
    "import datetime\n",
    "import math\n",
    "import matplotlib.pyplot as plt\n",
    "from matplotlib.dates import DateFormatter\n",
    "import seaborn as sns\n",
    "from scipy.signal import savgol_filter\n",
    "plt.style.use('seaborn')\n",
    "%matplotlib widget\n",
    "from mpl_toolkits.mplot3d import Axes3D\n",
    "\n",
    "from sklearn.decomposition import PCA\n",
    "from sklearn.preprocessing import StandardScaler\n",
    "from sklearn.preprocessing import scale\n",
    "from sklearn import model_selection\n",
    "from sklearn import linear_model"
   ]
  },
  {
   "cell_type": "markdown",
   "id": "9f3c5b5b-3451-41ab-91d6-a10021f3b4c4",
   "metadata": {},
   "source": [
    "# PCA refinements with FTIR engine\n",
    "\n",
    "This is essentially the same set of calculations as done in calibration_pca_210430.  The difference is that there is one more day's worth of data collection included in the spreadsheet.  Also the spreadsheet includes two additional columns designed to make identification of unique calibration and insertions easier (i.e., there are additional data columns that identify unique calibrations and insertions)."
   ]
  },
  {
   "cell_type": "code",
   "execution_count": 2,
   "id": "3122bbcb-3858-492e-9747-dabaac96f310",
   "metadata": {},
   "outputs": [],
   "source": [
    "def get_calibration_temperature(file, calibration_path):\n",
    "    with h5py.File(file, 'r') as h5_file:\n",
    "        cal_temp = h5_file[calibration_path].attrs['ftir_temperature']\n",
    "        return cal_temp\n",
    "    \n",
    "def get_insertion_temperature(file, insertion_path):\n",
    "    with h5py.File(file, 'r') as h5_file:\n",
    "        ins_temp = h5_file[insertion_path].attrs['ftir_temp']\n",
    "        return ins_temp\n",
    "    \n",
    "def get_visible_white_calibration_curve(file, calibration_path):\n",
    "    with h5py.File(file, 'r') as h5_file:\n",
    "        cal = h5_file[calibration_path].attrs['white_spectrum'][:]\n",
    "        return cal\n",
    "    \n",
    "def get_ftir_white_calibration_curve(file, calibration_path):\n",
    "    with h5py.File(file, 'r') as h5_file:\n",
    "        cal = h5_file[calibration_path].attrs['white_spectrum2'][:]\n",
    "        return cal\n",
    "    \n",
    "def get_visible_wavelength_vector(file, calibration_path):\n",
    "    with h5py.File(file, 'r') as h5_file:\n",
    "        waves = h5_file[calibration_path].attrs['spec1_wavelengths_vector'][:]\n",
    "        return waves\n",
    "    \n",
    "def get_ftir_wavelength_vector(file, calibration_path):\n",
    "    with h5py.File(file, 'r') as h5_file:\n",
    "        waves = h5_file[calibration_path].attrs['spec2_wavelengths_vector'][:]\n",
    "        return waves\n",
    "    \n",
    "def get_ftir_insertion_absorbances(file, insertion_path):\n",
    "    with h5py.File(file, 'r') as h5_file:\n",
    "        ins_abs = h5_file[f'{insertion_path}/spectrometer2/derived/absorbances'][:]\n",
    "        return ins_abs\n",
    "    \n",
    "def get_ftir_insertion_raw_spectra(file, insertion_path):\n",
    "    with h5py.File(file, 'r') as h5_file:\n",
    "        ins_raw = h5_file[f'{insertion_path}/spectrometer2/spectra'][:]\n",
    "        return ins_raw\n",
    "    \n",
    "def get_ftir_insertion_timestamps(file, insertion_path):\n",
    "    with h5py.File(file, 'r') as h5_file:\n",
    "        timestamps = h5_file[f'{insertion_path}/spectrometer2/timestamps'][:]\n",
    "        return timestamps\n",
    "    \n",
    "def get_visible_insertion_timestamps(file, insertion_path):\n",
    "    with h5py.File(file, 'r') as h5_file:\n",
    "        timestamps = h5_file[f'{insertion_path}/spectrometer1/timestamps'][:]\n",
    "        return timestamps\n",
    "    \n",
    "def get_visible_insertion_absorbances(file, insertion_path):\n",
    "    with h5py.File(file, 'r') as h5_file:\n",
    "        ins_abs = h5_file[f'{insertion_path}/spectrometer1/derived/absorbances'][:]\n",
    "        return ins_abs\n",
    "    \n",
    "def get_visible_insertion_raw_spectra(file, insertion_path):\n",
    "    with h5py.File(file, 'r') as h5_file:\n",
    "        ins_raw = h5_file[f'{insertion_path}/spectrometer1/spectra'][:]\n",
    "        return ins_raw\n",
    "    \n",
    "def create_list_of_items_in_node(item_type, file, node):\n",
    "    with h5py.File(file, 'r') as h5_file:\n",
    "        keys = []\n",
    "        if item_type == \"group\":\n",
    "            my_type = h5py._hl.group.Group\n",
    "        if item_type == \"dataset\":\n",
    "            my_type = h5py._hl.dataset.Dataset\n",
    "        h5_file[node].visit(lambda key: keys.append(key) if type(h5_file[node][key]) is my_type else None)\n",
    "        return keys\n",
    "\n",
    "def create_list_of_calibrations_in_node(file, node):\n",
    "    calibrations = []\n",
    "    all_groups = create_list_of_items_in_node(\"group\", file, node)\n",
    "    for group in all_groups:\n",
    "        if group[-6:-3] == 'cal':\n",
    "            calibrations.append(node + '/' + group)\n",
    "    return calibrations\n",
    "\n",
    "def create_list_of_insertions_in_calibration(file, calibration_path):\n",
    "    with h5py.File(file, 'r') as h5_file:\n",
    "        insertion_keys = list(h5_file[calibration_path].keys())\n",
    "        insertions = [f'{calibration_path}/{key}' for key in insertion_keys]            \n",
    "        return insertions\n",
    "    \n",
    "def select_by_depth_range(df, range_start, range_end):\n",
    "    df_out = df.loc[(df['depth'] > range_start) & (df['depth'] < range_end)]\n",
    "    return df_out\n",
    "\n",
    "def calculate_absorbance_from_raw(raw_spectrum, white_spectrum, dark_spectrum):\n",
    "    reflectance = ((raw_spectrum - dark_spectrum) / (white_spectrum - dark_spectrum))\n",
    "    inverse_reflectance = 1/reflectance\n",
    "    absorbance = np.log10(inverse_reflectance.astype(np.float64))\n",
    "    return absorbance\n",
    "\n",
    "def calculate_absorbance_for_2D_array(array, white_spectrum, dark_spectrum):\n",
    "    absorbance_array = np.empty_like(array, dtype=np.float64)\n",
    "    for i in range(array.shape[0]):\n",
    "        absorbance_spectrum = calculate_absorbance_from_raw(array[i, :], white_spectrum, dark_spectrum)\n",
    "        absorbance_array[i, :] = absorbance_spectrum\n",
    "    return absorbance_array\n",
    "\n",
    "def construct_full_file_path(data_path, file_name):\n",
    "    file_path = data_path + file_name\n",
    "    return file_path\n",
    "\n",
    "def create_list_of_sessions_in_file(file_name):\n",
    "    sessions = []\n",
    "    all_groups = create_list_of_items_in_node(\"group\", file_name, \"/\")\n",
    "    for group in all_groups:\n",
    "        if (group[0:3] == 'ses') and (len(group) == 10):\n",
    "            sessions.append(group)\n",
    "    return sessions\n",
    "\n",
    "def create_list_of_insertions_in_file(file_name):\n",
    "    insertions = []\n",
    "    sessions = create_list_of_sessions_in_file(file_name)\n",
    "    for session in sessions:\n",
    "        calibrations = create_list_of_calibrations_in_node(file_name, session)\n",
    "        for calibration in calibrations:\n",
    "            cal_insertions = create_list_of_insertions_in_calibration(file_name, calibration)\n",
    "            for insertion in cal_insertions:\n",
    "                insertions.append(insertion)\n",
    "    return insertions\n",
    "            \n",
    "def get_insertion_timestamp(file, insertion_path):\n",
    "    with h5py.File(file, 'r') as h5_file:\n",
    "        ins_time = h5_file[insertion_path].attrs['start_time']\n",
    "        ins_timestamp = pd.Timestamp(ins_time, unit='us')\n",
    "        return ins_timestamp\n",
    "    \n",
    "def get_calibration_timestamp(file, calibration_path):\n",
    "    with h5py.File(file, 'r') as h5_file:\n",
    "        cal_time = h5_file[calibration_path].attrs['calibration_start_time']\n",
    "        cal_timestamp = pd.Timestamp(cal_time, unit='us')\n",
    "        return cal_timestamp  \n",
    "    \n",
    "def find_position_in_wavelength_vector(wavelength_vector, integer):\n",
    "    position = np.where(np.isclose(wavelength_vector, integer, 1e-3))[0][0]\n",
    "    return position\n",
    "\n",
    "def normalize(value, max_value, min_value):\n",
    "    normalized_value = (value - min_value)/(max_value - min_value)\n",
    "    return normalized_value\n",
    "\n",
    "def get_ftir_dark_calibration_curve(file, calibration_path):\n",
    "    with h5py.File(file, 'r') as h5_file:\n",
    "        cal = h5_file[calibration_path].attrs['dark_spectrum2'][:]\n",
    "        return cal\n",
    "    \n",
    "def get_visible_dark_calibration_curve(file, calibration_path):\n",
    "    with h5py.File(file, 'r') as h5_file:\n",
    "        cal = h5_file[calibration_path].attrs['dark_spectrum'][:]\n",
    "        return cal\n",
    "        \n",
    "def get_ftir_spectrum_timestamp(file, insertion_path, index):\n",
    "    with h5py.File(file, 'r') as h5_file:\n",
    "        time = h5_file[f'{insertion_path}/spectrometer2/timestamps'][index]\n",
    "        timestamp = pd.Timestamp(time, unit='us')\n",
    "        return timestamp\n",
    "    \n",
    "def get_visible_spectrum_timestamp(file, insertion_path, index):\n",
    "    with h5py.File(file, 'r') as h5_file:\n",
    "        time = h5_file[f'{insertion_path}/spectrometer1/timestamps'][index]\n",
    "        timestamp = pd.Timestamp(time, unit='us')\n",
    "        return timestamp\n",
    "    \n",
    "def compute_3D_distance(x1, y1, z1, x2, y2, z2):\n",
    "    distance = math.sqrt((x1 - x2)**2 + (y1 - y2)**2 + (z1 - z2)**2)\n",
    "    return distance"
   ]
  },
  {
   "cell_type": "code",
   "execution_count": 3,
   "id": "90a9900b-fe6a-4437-b1e5-cd9733a0ce68",
   "metadata": {},
   "outputs": [
    {
     "name": "stdout",
     "output_type": "stream",
     "text": [
      "(23100, 11)\n",
      "(23100, 1)\n",
      "(23100, 700)\n",
      "(23100, 712)\n"
     ]
    }
   ],
   "source": [
    "path_name = \"/Users/linda/OneDrive/Documents/S4_mine_p/Projects/Data_collected/\"\n",
    "df = pd.read_csv('data/white_insertions_210430.csv')\n",
    "df_columns = list(df.columns.values)\n",
    "df_columns.append('cal_time_0')\n",
    "df_columns.append('temperature')\n",
    "info_df = pd.DataFrame(columns=df_columns)\n",
    "timestamps_df = pd.DataFrame(columns=['timestamp'])\n",
    "columns = np.arange(0, 700, 1)\n",
    "spectra = pd.DataFrame(columns=columns)\n",
    "# each i represents an insertion\n",
    "for i in range(df.shape[0]):\n",
    "    row_file = df['file_name'][i]\n",
    "    file = construct_full_file_path(path_name, row_file)\n",
    "    calibration_path = df['session'][i] + \"/\" + df['calibration'][i]\n",
    "    calibration_insertions = create_list_of_insertions_in_calibration(file, calibration_path)    \n",
    "    calibration_first_timestamp = get_ftir_spectrum_timestamp(file, calibration_insertions[0], 0)\n",
    "    insertion_path = calibration_path + \"/\" + df['insertion'][i]\n",
    "    insertion_temperature = get_insertion_temperature(file, insertion_path)\n",
    "         \n",
    "    # raw_spectra and timestamps have many spectra and timestamps per insertion\n",
    "    raw_spectra = pd.DataFrame(get_ftir_insertion_raw_spectra(file, insertion_path))    \n",
    "    spectra = pd.concat([spectra, raw_spectra], axis=0, ignore_index=True)\n",
    "    ts_array = get_ftir_insertion_timestamps(file, insertion_path)\n",
    "    timestamps = pd.DataFrame(pd.to_datetime(ts_array, unit='us'), columns=['timestamp'])\n",
    "    timestamps_df = pd.concat([timestamps_df, timestamps], axis=0, ignore_index=True)\n",
    "    # info and temperature will be the same for every spectrum in insertion\n",
    "    info_row = df.iloc[i:i+1, :].copy()\n",
    "    info_row['cal_time_0'] = calibration_first_timestamp\n",
    "    info_row['temperature'] = insertion_temperature\n",
    "    # each j represents a spectrum; the info is duplicated for each spectrum\n",
    "    for j in range(raw_spectra.shape[0]):\n",
    "        info_df = pd.concat([info_df, info_row], axis=0, ignore_index=True)\n",
    "\n",
    "print(info_df.shape)\n",
    "print(timestamps_df.shape)\n",
    "print(spectra.shape)\n",
    "spectra_df = pd.concat([info_df, timestamps_df, spectra], axis=1)\n",
    "print(spectra_df.shape)\n"
   ]
  },
  {
   "cell_type": "code",
   "execution_count": 4,
   "id": "dd291336-9b7c-432a-8b1a-79d42b5b443c",
   "metadata": {},
   "outputs": [
    {
     "data": {
      "text/plain": [
       "(23100, 433)"
      ]
     },
     "execution_count": 4,
     "metadata": {},
     "output_type": "execute_result"
    }
   ],
   "source": [
    "# create the input data for the PCA.  Restricting the wavelengths to 1200 to 2200 nm\n",
    "waves = get_ftir_wavelength_vector(file, calibration_path)\n",
    "start_index = find_position_in_wavelength_vector(waves, 1200)\n",
    "end_index = find_position_in_wavelength_vector(waves, 2200)\n",
    "X = spectra_df.iloc[:, (start_index + 12):(end_index + 13)]\n",
    "X.shape"
   ]
  },
  {
   "cell_type": "code",
   "execution_count": 5,
   "id": "8eb2de71-7248-4f6c-882b-c0b3063c754a",
   "metadata": {},
   "outputs": [],
   "source": [
    "# do the PCA\n",
    "pca = PCA(n_components=10)\n",
    "X_pca = pca.fit_transform(StandardScaler().fit_transform(X))"
   ]
  },
  {
   "cell_type": "code",
   "execution_count": 6,
   "id": "fa468faf-6851-4ca2-843e-0923078d7777",
   "metadata": {},
   "outputs": [
    {
     "data": {
      "text/plain": [
       "array([0.33577056, 0.61712281, 0.81583384, 0.90848831, 0.96597407,\n",
       "       0.99423979, 0.99909545, 0.9995095 , 0.99977313, 0.99987555])"
      ]
     },
     "execution_count": 6,
     "metadata": {},
     "output_type": "execute_result"
    }
   ],
   "source": [
    "# The amount of variation explained per component\n",
    "np.cumsum(pca.explained_variance_ratio_)"
   ]
  },
  {
   "cell_type": "code",
   "execution_count": 7,
   "id": "e03196f4-ef3b-44a1-b78c-b530c5b857b0",
   "metadata": {},
   "outputs": [
    {
     "data": {
      "application/vnd.jupyter.widget-view+json": {
       "model_id": "249743f8cd74458e8e74be32aa8bf35c",
       "version_major": 2,
       "version_minor": 0
      },
      "text/plain": [
       "Canvas(toolbar=Toolbar(toolitems=[('Home', 'Reset original view', 'home', 'home'), ('Back', 'Back to previous …"
      ]
     },
     "metadata": {},
     "output_type": "display_data"
    }
   ],
   "source": [
    "fig, ax = plt.subplots()\n",
    "ax.plot(np.cumsum(pca.explained_variance_ratio_[:10]));"
   ]
  },
  {
   "cell_type": "code",
   "execution_count": 8,
   "id": "851996f4-a753-4392-950c-1754f3dde038",
   "metadata": {},
   "outputs": [],
   "source": [
    "# Turn the components into a dataframe\n",
    "X_pca_df = pd.DataFrame(X_pca)"
   ]
  },
  {
   "cell_type": "code",
   "execution_count": 9,
   "id": "c5b7780a-9ed5-4a78-8aba-ef753cb6172d",
   "metadata": {},
   "outputs": [
    {
     "data": {
      "application/vnd.jupyter.widget-view+json": {
       "model_id": "a87fb47810af48bb9d9c42c3ef60dd22",
       "version_major": 2,
       "version_minor": 0
      },
      "text/plain": [
       "Canvas(toolbar=Toolbar(toolitems=[('Home', 'Reset original view', 'home', 'home'), ('Back', 'Back to previous …"
      ]
     },
     "metadata": {},
     "output_type": "display_data"
    }
   ],
   "source": [
    "# Plot of PC1 by PC2\n",
    "fig, ax = plt.subplots(figsize=(10,10))\n",
    "ax.set_xlim(-23, 23)\n",
    "ax.set_ylim(-23, 23)\n",
    "sns.scatterplot(x=X_pca_df[0], y=X_pca_df[1], hue=spectra_df['conditions'], alpha=0.2, size=2.0, palette='gist_ncar')\n",
    "plt.xlabel(\"PC1\")\n",
    "plt.ylabel(\"PC2\");"
   ]
  },
  {
   "cell_type": "code",
   "execution_count": 10,
   "id": "24380a5f-e79d-448a-a5e2-63397500374e",
   "metadata": {},
   "outputs": [
    {
     "data": {
      "application/vnd.jupyter.widget-view+json": {
       "model_id": "b7f30db9d2cb4af9a86f9e99dcb2ba4e",
       "version_major": 2,
       "version_minor": 0
      },
      "text/plain": [
       "Canvas(toolbar=Toolbar(toolitems=[('Home', 'Reset original view', 'home', 'home'), ('Back', 'Back to previous …"
      ]
     },
     "metadata": {},
     "output_type": "display_data"
    }
   ],
   "source": [
    "selected = X_pca_df.loc[(spectra_df['conditions'] == 'sunshine')|(spectra_df['conditions'] == 'inside')]\n",
    "selected_conditions = spectra_df.loc[(spectra_df['conditions'] == 'sunshine')|(spectra_df['conditions'] == 'inside')]\n",
    "\n",
    "\n",
    "fig, ax = plt.subplots(figsize=(10,10))\n",
    "ax.set_xlim(-23, 23)\n",
    "ax.set_ylim(-23, 23)\n",
    "\n",
    "sns.scatterplot(x=selected[0], y=selected[1], hue=selected_conditions['conditions'], alpha=0.2, size=selected_conditions['temperature'], palette='gist_ncar');"
   ]
  },
  {
   "cell_type": "code",
   "execution_count": 11,
   "id": "22441db3-456c-4a56-981f-63ac36782b15",
   "metadata": {},
   "outputs": [
    {
     "data": {
      "application/vnd.jupyter.widget-view+json": {
       "model_id": "5fa0fd6a21ff452ea021a694a6c69752",
       "version_major": 2,
       "version_minor": 0
      },
      "text/plain": [
       "Canvas(toolbar=Toolbar(toolitems=[('Home', 'Reset original view', 'home', 'home'), ('Back', 'Back to previous …"
      ]
     },
     "metadata": {},
     "output_type": "display_data"
    }
   ],
   "source": [
    "selected1 = X_pca_df.loc[(spectra_df['conditions'] == 'heat spectrometer')]\n",
    "selected2 = X_pca_df.loc[(spectra_df['conditions'] == 'cool spectrometer')]\n",
    "selected3 = X_pca_df.loc[(spectra_df['conditions'] == 'heat light source')]\n",
    "fig = plt.figure(figsize=(10, 10))\n",
    "ax = fig.add_subplot(111, projection = \"3d\")\n",
    "ax.set_xlabel(\"PC1\")\n",
    "ax.set_ylabel(\"PC2\")\n",
    "ax.set_zlabel(\"PC3\")\n",
    "ax.scatter(xs = selected1[0], ys=selected1[1], zs=selected1[2], color='tab:blue', alpha=0.2)\n",
    "ax.scatter(xs = selected2[0], ys=selected2[1], zs=selected2[2], color='tab:orange', alpha=0.2)\n",
    "ax.scatter(xs = selected3[0], ys=selected3[1], zs=selected3[2], color='tab:green', alpha=0.2);"
   ]
  },
  {
   "cell_type": "code",
   "execution_count": 12,
   "id": "a498d7e3-5807-459f-9400-f0107e0fecab",
   "metadata": {},
   "outputs": [
    {
     "data": {
      "application/vnd.jupyter.widget-view+json": {
       "model_id": "9b5e4550f45e4461b81f7e2334df7b2d",
       "version_major": 2,
       "version_minor": 0
      },
      "text/plain": [
       "Canvas(toolbar=Toolbar(toolitems=[('Home', 'Reset original view', 'home', 'home'), ('Back', 'Back to previous …"
      ]
     },
     "metadata": {},
     "output_type": "display_data"
    },
    {
     "data": {
      "text/plain": [
       "<AxesSubplot:xlabel='0', ylabel='temperature'>"
      ]
     },
     "execution_count": 12,
     "metadata": {},
     "output_type": "execute_result"
    }
   ],
   "source": [
    "fig, ax = plt.subplots()\n",
    "sns.scatterplot(x=X_pca_df[0], y=spectra_df['temperature'], alpha=0.2)"
   ]
  },
  {
   "cell_type": "code",
   "execution_count": 13,
   "id": "3f391675-ae7b-4352-b207-cf131f76d069",
   "metadata": {},
   "outputs": [
    {
     "data": {
      "text/plain": [
       "0.20048850399240992"
      ]
     },
     "execution_count": 13,
     "metadata": {},
     "output_type": "execute_result"
    }
   ],
   "source": [
    "# Regress the first components against temperature\n",
    "X = X_pca_df.iloc[:, 0:5]\n",
    "y = spectra_df['temperature']\n",
    "lr = linear_model.LinearRegression().fit(X, y)\n",
    "lr.score(X, y)"
   ]
  },
  {
   "cell_type": "code",
   "execution_count": 14,
   "id": "6c6c088a-d7c8-44d5-bd5a-2b26bd6d79d5",
   "metadata": {},
   "outputs": [],
   "source": [
    "# computing the time delta within each insertion\n",
    "timestamps1_df = spectra_df[['file_name', 'session', 'calibration', 'insertion', 'timestamp']].copy()\n",
    "insertion_times = timestamps1_df.groupby(['file_name', 'session', 'calibration', 'insertion']).first()['timestamp']\n",
    "spectra_delta = pd.merge(spectra_df, insertion_times, on=['file_name', 'session', 'calibration', 'insertion'])\n",
    "spectra_delta['ins_time_delta'] = (spectra_delta['timestamp_x'] - spectra_delta['timestamp_y']).astype('timedelta64[ms]')/1000"
   ]
  },
  {
   "cell_type": "code",
   "execution_count": 15,
   "id": "5e22b611-67bd-479a-ba0e-1e1cc110fd2d",
   "metadata": {},
   "outputs": [
    {
     "data": {
      "text/html": [
       "<div>\n",
       "<style scoped>\n",
       "    .dataframe tbody tr th:only-of-type {\n",
       "        vertical-align: middle;\n",
       "    }\n",
       "\n",
       "    .dataframe tbody tr th {\n",
       "        vertical-align: top;\n",
       "    }\n",
       "\n",
       "    .dataframe thead th {\n",
       "        text-align: right;\n",
       "    }\n",
       "</style>\n",
       "<table border=\"1\" class=\"dataframe\">\n",
       "  <thead>\n",
       "    <tr style=\"text-align: right;\">\n",
       "      <th></th>\n",
       "      <th>file_name</th>\n",
       "      <th>date</th>\n",
       "      <th>session</th>\n",
       "      <th>calibration</th>\n",
       "      <th>insertion</th>\n",
       "      <th>c_unique</th>\n",
       "      <th>i_in_c</th>\n",
       "      <th>i_unique</th>\n",
       "      <th>conditions</th>\n",
       "      <th>cal_time_0</th>\n",
       "      <th>...</th>\n",
       "      <th>692</th>\n",
       "      <th>693</th>\n",
       "      <th>694</th>\n",
       "      <th>695</th>\n",
       "      <th>696</th>\n",
       "      <th>697</th>\n",
       "      <th>698</th>\n",
       "      <th>699</th>\n",
       "      <th>timestamp_y</th>\n",
       "      <th>ins_time_delta</th>\n",
       "    </tr>\n",
       "  </thead>\n",
       "  <tbody>\n",
       "    <tr>\n",
       "      <th>0</th>\n",
       "      <td>210420_green_tests/green_testing_210420b.h5</td>\n",
       "      <td>4/20/21</td>\n",
       "      <td>session001</td>\n",
       "      <td>cal001</td>\n",
       "      <td>ins001</td>\n",
       "      <td>c001</td>\n",
       "      <td>i01</td>\n",
       "      <td>c001i01</td>\n",
       "      <td>general</td>\n",
       "      <td>2021-04-20 12:29:20.206730</td>\n",
       "      <td>...</td>\n",
       "      <td>0.008904</td>\n",
       "      <td>0.008519</td>\n",
       "      <td>0.007887</td>\n",
       "      <td>0.007151</td>\n",
       "      <td>0.006289</td>\n",
       "      <td>0.005383</td>\n",
       "      <td>0.004043</td>\n",
       "      <td>0.002584</td>\n",
       "      <td>2021-04-20 12:29:20.206730</td>\n",
       "      <td>0.000</td>\n",
       "    </tr>\n",
       "    <tr>\n",
       "      <th>1</th>\n",
       "      <td>210420_green_tests/green_testing_210420b.h5</td>\n",
       "      <td>4/20/21</td>\n",
       "      <td>session001</td>\n",
       "      <td>cal001</td>\n",
       "      <td>ins001</td>\n",
       "      <td>c001</td>\n",
       "      <td>i01</td>\n",
       "      <td>c001i01</td>\n",
       "      <td>general</td>\n",
       "      <td>2021-04-20 12:29:20.206730</td>\n",
       "      <td>...</td>\n",
       "      <td>0.009338</td>\n",
       "      <td>0.005970</td>\n",
       "      <td>0.005658</td>\n",
       "      <td>0.006638</td>\n",
       "      <td>0.006564</td>\n",
       "      <td>0.006130</td>\n",
       "      <td>0.004495</td>\n",
       "      <td>0.002535</td>\n",
       "      <td>2021-04-20 12:29:20.206730</td>\n",
       "      <td>2.128</td>\n",
       "    </tr>\n",
       "    <tr>\n",
       "      <th>2</th>\n",
       "      <td>210420_green_tests/green_testing_210420b.h5</td>\n",
       "      <td>4/20/21</td>\n",
       "      <td>session001</td>\n",
       "      <td>cal001</td>\n",
       "      <td>ins001</td>\n",
       "      <td>c001</td>\n",
       "      <td>i01</td>\n",
       "      <td>c001i01</td>\n",
       "      <td>general</td>\n",
       "      <td>2021-04-20 12:29:20.206730</td>\n",
       "      <td>...</td>\n",
       "      <td>0.009734</td>\n",
       "      <td>0.010965</td>\n",
       "      <td>0.009347</td>\n",
       "      <td>0.006529</td>\n",
       "      <td>0.006881</td>\n",
       "      <td>0.008314</td>\n",
       "      <td>0.008055</td>\n",
       "      <td>0.007341</td>\n",
       "      <td>2021-04-20 12:29:20.206730</td>\n",
       "      <td>4.260</td>\n",
       "    </tr>\n",
       "    <tr>\n",
       "      <th>3</th>\n",
       "      <td>210420_green_tests/green_testing_210420b.h5</td>\n",
       "      <td>4/20/21</td>\n",
       "      <td>session001</td>\n",
       "      <td>cal001</td>\n",
       "      <td>ins001</td>\n",
       "      <td>c001</td>\n",
       "      <td>i01</td>\n",
       "      <td>c001i01</td>\n",
       "      <td>general</td>\n",
       "      <td>2021-04-20 12:29:20.206730</td>\n",
       "      <td>...</td>\n",
       "      <td>0.011480</td>\n",
       "      <td>0.009963</td>\n",
       "      <td>0.009210</td>\n",
       "      <td>0.008778</td>\n",
       "      <td>0.007610</td>\n",
       "      <td>0.006191</td>\n",
       "      <td>0.004538</td>\n",
       "      <td>0.002822</td>\n",
       "      <td>2021-04-20 12:29:20.206730</td>\n",
       "      <td>6.377</td>\n",
       "    </tr>\n",
       "    <tr>\n",
       "      <th>4</th>\n",
       "      <td>210420_green_tests/green_testing_210420b.h5</td>\n",
       "      <td>4/20/21</td>\n",
       "      <td>session001</td>\n",
       "      <td>cal001</td>\n",
       "      <td>ins001</td>\n",
       "      <td>c001</td>\n",
       "      <td>i01</td>\n",
       "      <td>c001i01</td>\n",
       "      <td>general</td>\n",
       "      <td>2021-04-20 12:29:20.206730</td>\n",
       "      <td>...</td>\n",
       "      <td>0.011378</td>\n",
       "      <td>0.011097</td>\n",
       "      <td>0.010056</td>\n",
       "      <td>0.008693</td>\n",
       "      <td>0.007688</td>\n",
       "      <td>0.006805</td>\n",
       "      <td>0.005380</td>\n",
       "      <td>0.003810</td>\n",
       "      <td>2021-04-20 12:29:20.206730</td>\n",
       "      <td>8.496</td>\n",
       "    </tr>\n",
       "  </tbody>\n",
       "</table>\n",
       "<p>5 rows × 714 columns</p>\n",
       "</div>"
      ],
      "text/plain": [
       "                                     file_name     date     session  \\\n",
       "0  210420_green_tests/green_testing_210420b.h5  4/20/21  session001   \n",
       "1  210420_green_tests/green_testing_210420b.h5  4/20/21  session001   \n",
       "2  210420_green_tests/green_testing_210420b.h5  4/20/21  session001   \n",
       "3  210420_green_tests/green_testing_210420b.h5  4/20/21  session001   \n",
       "4  210420_green_tests/green_testing_210420b.h5  4/20/21  session001   \n",
       "\n",
       "  calibration insertion c_unique i_in_c i_unique conditions  \\\n",
       "0      cal001    ins001     c001    i01  c001i01    general   \n",
       "1      cal001    ins001     c001    i01  c001i01    general   \n",
       "2      cal001    ins001     c001    i01  c001i01    general   \n",
       "3      cal001    ins001     c001    i01  c001i01    general   \n",
       "4      cal001    ins001     c001    i01  c001i01    general   \n",
       "\n",
       "                  cal_time_0  ...       692       693       694       695  \\\n",
       "0 2021-04-20 12:29:20.206730  ...  0.008904  0.008519  0.007887  0.007151   \n",
       "1 2021-04-20 12:29:20.206730  ...  0.009338  0.005970  0.005658  0.006638   \n",
       "2 2021-04-20 12:29:20.206730  ...  0.009734  0.010965  0.009347  0.006529   \n",
       "3 2021-04-20 12:29:20.206730  ...  0.011480  0.009963  0.009210  0.008778   \n",
       "4 2021-04-20 12:29:20.206730  ...  0.011378  0.011097  0.010056  0.008693   \n",
       "\n",
       "        696       697       698       699                timestamp_y  \\\n",
       "0  0.006289  0.005383  0.004043  0.002584 2021-04-20 12:29:20.206730   \n",
       "1  0.006564  0.006130  0.004495  0.002535 2021-04-20 12:29:20.206730   \n",
       "2  0.006881  0.008314  0.008055  0.007341 2021-04-20 12:29:20.206730   \n",
       "3  0.007610  0.006191  0.004538  0.002822 2021-04-20 12:29:20.206730   \n",
       "4  0.007688  0.006805  0.005380  0.003810 2021-04-20 12:29:20.206730   \n",
       "\n",
       "   ins_time_delta  \n",
       "0           0.000  \n",
       "1           2.128  \n",
       "2           4.260  \n",
       "3           6.377  \n",
       "4           8.496  \n",
       "\n",
       "[5 rows x 714 columns]"
      ]
     },
     "execution_count": 15,
     "metadata": {},
     "output_type": "execute_result"
    }
   ],
   "source": [
    "spectra_delta.head()"
   ]
  },
  {
   "cell_type": "code",
   "execution_count": 17,
   "id": "9721aff9-9f0a-4615-be2e-2a62dcca0ec7",
   "metadata": {},
   "outputs": [
    {
     "data": {
      "text/plain": [
       "['file_name',\n",
       " 'date',\n",
       " 'session',\n",
       " 'calibration',\n",
       " 'insertion',\n",
       " 'c_unique',\n",
       " 'i_in_c',\n",
       " 'i_unique',\n",
       " 'conditions',\n",
       " 'cal_time_0',\n",
       " 'temperature',\n",
       " 'timestamp_x']"
      ]
     },
     "execution_count": 17,
     "metadata": {},
     "output_type": "execute_result"
    }
   ],
   "source": [
    "# Making a dataframe with the time delta but not the spectral data\n",
    "columns = list(spectra_delta.iloc[:, :12].columns.values)\n",
    "columns"
   ]
  },
  {
   "cell_type": "code",
   "execution_count": 18,
   "id": "92e379c6-6782-4267-b5b6-b94719c1bb7e",
   "metadata": {},
   "outputs": [],
   "source": [
    "columns.append('timestamp_y')\n",
    "columns.append('ins_time_delta')\n",
    "spectra_info = spectra_delta[columns]"
   ]
  },
  {
   "cell_type": "code",
   "execution_count": 19,
   "id": "21e5e17c-ba3d-4a91-9840-8e251a0f23f5",
   "metadata": {},
   "outputs": [],
   "source": [
    "# Combining the information columns with the PCA output\n",
    "components_info = pd.concat([spectra_info.copy(), X_pca_df], axis=1)"
   ]
  },
  {
   "cell_type": "code",
   "execution_count": 20,
   "id": "b259417d-369b-424d-a9f0-d5da624f3543",
   "metadata": {},
   "outputs": [],
   "source": [
    "# Preparing to group the data by unique insertions (first spectrum of the insertion, then last spectrum of the insertion)\n",
    "insertion_unique = 'i_unique'\n",
    "ins_first_components = components_info.groupby(insertion_unique).first()\n",
    "ins_last_components = components_info.groupby(insertion_unique).last()"
   ]
  },
  {
   "cell_type": "code",
   "execution_count": 21,
   "id": "67cbe19b-7826-42ba-b395-73f00dfc395e",
   "metadata": {},
   "outputs": [],
   "source": [
    "# Merging the first and the last spectrum data together\n",
    "ins_first_last = pd.merge(ins_first_components, ins_last_components, on=insertion_unique)"
   ]
  },
  {
   "cell_type": "code",
   "execution_count": 22,
   "id": "70557916-4c89-44cb-9d6c-4adec9d4987f",
   "metadata": {},
   "outputs": [],
   "source": [
    "# Calculate the 3D distance between the first and last spectrum in each insertion\n",
    "# Uses the first three PC values\n",
    "ins_dist = ins_first_last.reset_index()\n",
    "ins_dist['distance'] = 0.0\n",
    "for i in range(ins_dist.shape[0]):\n",
    "    ins_dist.iat[i, -1] = compute_3D_distance(ins_dist.at[i, '0_x'],\n",
    "                                              ins_dist.at[i, '1_x'],\n",
    "                                              ins_dist.at[i, '2_x'],\n",
    "                                              ins_dist.at[i, '0_y'],\n",
    "                                              ins_dist.at[i, '1_y'],\n",
    "                                              ins_dist.at[i, '2_y'],\n",
    "                                             )"
   ]
  },
  {
   "cell_type": "code",
   "execution_count": 23,
   "id": "9ce55043-ce87-4017-988e-0a529d0a9d31",
   "metadata": {},
   "outputs": [
    {
     "data": {
      "text/html": [
       "<div>\n",
       "<style scoped>\n",
       "    .dataframe tbody tr th:only-of-type {\n",
       "        vertical-align: middle;\n",
       "    }\n",
       "\n",
       "    .dataframe tbody tr th {\n",
       "        vertical-align: top;\n",
       "    }\n",
       "\n",
       "    .dataframe thead th {\n",
       "        text-align: right;\n",
       "    }\n",
       "</style>\n",
       "<table border=\"1\" class=\"dataframe\">\n",
       "  <thead>\n",
       "    <tr style=\"text-align: right;\">\n",
       "      <th></th>\n",
       "      <th>i_unique</th>\n",
       "      <th>file_name_x</th>\n",
       "      <th>date_x</th>\n",
       "      <th>session_x</th>\n",
       "      <th>calibration_x</th>\n",
       "      <th>insertion_x</th>\n",
       "      <th>c_unique_x</th>\n",
       "      <th>i_in_c_x</th>\n",
       "      <th>conditions_x</th>\n",
       "      <th>cal_time_0_x</th>\n",
       "      <th>...</th>\n",
       "      <th>1_y</th>\n",
       "      <th>2_y</th>\n",
       "      <th>3_y</th>\n",
       "      <th>4_y</th>\n",
       "      <th>5_y</th>\n",
       "      <th>6_y</th>\n",
       "      <th>7_y</th>\n",
       "      <th>8_y</th>\n",
       "      <th>9_y</th>\n",
       "      <th>distance</th>\n",
       "    </tr>\n",
       "  </thead>\n",
       "  <tbody>\n",
       "    <tr>\n",
       "      <th>0</th>\n",
       "      <td>c001i01</td>\n",
       "      <td>210420_green_tests/green_testing_210420b.h5</td>\n",
       "      <td>4/20/21</td>\n",
       "      <td>session001</td>\n",
       "      <td>cal001</td>\n",
       "      <td>ins001</td>\n",
       "      <td>c001</td>\n",
       "      <td>i01</td>\n",
       "      <td>general</td>\n",
       "      <td>2021-04-20 12:29:20.206730</td>\n",
       "      <td>...</td>\n",
       "      <td>-19.730506</td>\n",
       "      <td>-11.696206</td>\n",
       "      <td>0.187949</td>\n",
       "      <td>0.525161</td>\n",
       "      <td>-0.588645</td>\n",
       "      <td>0.316127</td>\n",
       "      <td>0.019256</td>\n",
       "      <td>0.136356</td>\n",
       "      <td>-0.002380</td>\n",
       "      <td>9.144209</td>\n",
       "    </tr>\n",
       "    <tr>\n",
       "      <th>1</th>\n",
       "      <td>c001i02</td>\n",
       "      <td>210420_green_tests/green_testing_210420b.h5</td>\n",
       "      <td>4/20/21</td>\n",
       "      <td>session001</td>\n",
       "      <td>cal001</td>\n",
       "      <td>ins002</td>\n",
       "      <td>c001</td>\n",
       "      <td>i02</td>\n",
       "      <td>general</td>\n",
       "      <td>2021-04-20 12:29:20.206730</td>\n",
       "      <td>...</td>\n",
       "      <td>-24.262528</td>\n",
       "      <td>-8.691771</td>\n",
       "      <td>0.267131</td>\n",
       "      <td>0.070595</td>\n",
       "      <td>-0.044148</td>\n",
       "      <td>0.450560</td>\n",
       "      <td>-0.067557</td>\n",
       "      <td>0.184432</td>\n",
       "      <td>-0.011552</td>\n",
       "      <td>8.218798</td>\n",
       "    </tr>\n",
       "    <tr>\n",
       "      <th>2</th>\n",
       "      <td>c001i03</td>\n",
       "      <td>210420_green_tests/green_testing_210420b.h5</td>\n",
       "      <td>4/20/21</td>\n",
       "      <td>session001</td>\n",
       "      <td>cal001</td>\n",
       "      <td>ins003</td>\n",
       "      <td>c001</td>\n",
       "      <td>i03</td>\n",
       "      <td>general</td>\n",
       "      <td>2021-04-20 12:29:20.206730</td>\n",
       "      <td>...</td>\n",
       "      <td>-25.841262</td>\n",
       "      <td>-3.624061</td>\n",
       "      <td>-0.670779</td>\n",
       "      <td>-1.376309</td>\n",
       "      <td>0.215873</td>\n",
       "      <td>0.265448</td>\n",
       "      <td>-0.039988</td>\n",
       "      <td>0.183012</td>\n",
       "      <td>-0.057630</td>\n",
       "      <td>6.244483</td>\n",
       "    </tr>\n",
       "    <tr>\n",
       "      <th>3</th>\n",
       "      <td>c001i04</td>\n",
       "      <td>210420_green_tests/green_testing_210420b.h5</td>\n",
       "      <td>4/20/21</td>\n",
       "      <td>session001</td>\n",
       "      <td>cal001</td>\n",
       "      <td>ins004</td>\n",
       "      <td>c001</td>\n",
       "      <td>i04</td>\n",
       "      <td>general</td>\n",
       "      <td>2021-04-20 12:29:20.206730</td>\n",
       "      <td>...</td>\n",
       "      <td>-25.310404</td>\n",
       "      <td>1.237375</td>\n",
       "      <td>-2.090968</td>\n",
       "      <td>-3.181686</td>\n",
       "      <td>0.185080</td>\n",
       "      <td>-0.082879</td>\n",
       "      <td>0.009557</td>\n",
       "      <td>0.210017</td>\n",
       "      <td>-0.060303</td>\n",
       "      <td>3.904178</td>\n",
       "    </tr>\n",
       "    <tr>\n",
       "      <th>4</th>\n",
       "      <td>c001i05</td>\n",
       "      <td>210420_green_tests/green_testing_210420b.h5</td>\n",
       "      <td>4/20/21</td>\n",
       "      <td>session001</td>\n",
       "      <td>cal001</td>\n",
       "      <td>ins005</td>\n",
       "      <td>c001</td>\n",
       "      <td>i05</td>\n",
       "      <td>general</td>\n",
       "      <td>2021-04-20 12:29:20.206730</td>\n",
       "      <td>...</td>\n",
       "      <td>-22.926020</td>\n",
       "      <td>7.336652</td>\n",
       "      <td>-4.308702</td>\n",
       "      <td>-5.959031</td>\n",
       "      <td>-0.101893</td>\n",
       "      <td>-0.760675</td>\n",
       "      <td>0.148616</td>\n",
       "      <td>0.156279</td>\n",
       "      <td>-0.129771</td>\n",
       "      <td>2.066991</td>\n",
       "    </tr>\n",
       "  </tbody>\n",
       "</table>\n",
       "<p>5 rows × 48 columns</p>\n",
       "</div>"
      ],
      "text/plain": [
       "  i_unique                                  file_name_x   date_x   session_x  \\\n",
       "0  c001i01  210420_green_tests/green_testing_210420b.h5  4/20/21  session001   \n",
       "1  c001i02  210420_green_tests/green_testing_210420b.h5  4/20/21  session001   \n",
       "2  c001i03  210420_green_tests/green_testing_210420b.h5  4/20/21  session001   \n",
       "3  c001i04  210420_green_tests/green_testing_210420b.h5  4/20/21  session001   \n",
       "4  c001i05  210420_green_tests/green_testing_210420b.h5  4/20/21  session001   \n",
       "\n",
       "  calibration_x insertion_x c_unique_x i_in_c_x conditions_x  \\\n",
       "0        cal001      ins001       c001      i01      general   \n",
       "1        cal001      ins002       c001      i02      general   \n",
       "2        cal001      ins003       c001      i03      general   \n",
       "3        cal001      ins004       c001      i04      general   \n",
       "4        cal001      ins005       c001      i05      general   \n",
       "\n",
       "                cal_time_0_x  ...        1_y        2_y       3_y       4_y  \\\n",
       "0 2021-04-20 12:29:20.206730  ... -19.730506 -11.696206  0.187949  0.525161   \n",
       "1 2021-04-20 12:29:20.206730  ... -24.262528  -8.691771  0.267131  0.070595   \n",
       "2 2021-04-20 12:29:20.206730  ... -25.841262  -3.624061 -0.670779 -1.376309   \n",
       "3 2021-04-20 12:29:20.206730  ... -25.310404   1.237375 -2.090968 -3.181686   \n",
       "4 2021-04-20 12:29:20.206730  ... -22.926020   7.336652 -4.308702 -5.959031   \n",
       "\n",
       "        5_y       6_y       7_y       8_y       9_y  distance  \n",
       "0 -0.588645  0.316127  0.019256  0.136356 -0.002380  9.144209  \n",
       "1 -0.044148  0.450560 -0.067557  0.184432 -0.011552  8.218798  \n",
       "2  0.215873  0.265448 -0.039988  0.183012 -0.057630  6.244483  \n",
       "3  0.185080 -0.082879  0.009557  0.210017 -0.060303  3.904178  \n",
       "4 -0.101893 -0.760675  0.148616  0.156279 -0.129771  2.066991  \n",
       "\n",
       "[5 rows x 48 columns]"
      ]
     },
     "execution_count": 23,
     "metadata": {},
     "output_type": "execute_result"
    }
   ],
   "source": [
    "ins_dist.head()"
   ]
  },
  {
   "cell_type": "code",
   "execution_count": 24,
   "id": "162687ad-3de2-4a04-9db8-049413347d09",
   "metadata": {},
   "outputs": [],
   "source": [
    "# Calculate the time for each insertion from the first spectrum in a calibration\n",
    "cal_time_delta = (ins_dist['timestamp_x_x'] - ins_dist['cal_time_0_x']).astype('timedelta64[ms]')/1000\n",
    "ins_dist['cal_time_delta'] = cal_time_delta"
   ]
  },
  {
   "cell_type": "code",
   "execution_count": 25,
   "id": "4dcdf19e-ccb7-45fc-a69f-159cc29ae897",
   "metadata": {},
   "outputs": [
    {
     "data": {
      "application/vnd.jupyter.widget-view+json": {
       "model_id": "83b6bcd3f2a04299bfb9a741a156f48e",
       "version_major": 2,
       "version_minor": 0
      },
      "text/plain": [
       "Canvas(toolbar=Toolbar(toolitems=[('Home', 'Reset original view', 'home', 'home'), ('Back', 'Back to previous …"
      ]
     },
     "metadata": {},
     "output_type": "display_data"
    }
   ],
   "source": [
    "fig, ax = plt.subplots()\n",
    "sns.scatterplot(x = cal_time_delta, y=ins_dist['distance'], hue=ins_dist['conditions_x'], alpha=0.2);"
   ]
  },
  {
   "cell_type": "code",
   "execution_count": 26,
   "id": "9256c428-3207-49ee-a89b-b8ee9fd32ce7",
   "metadata": {},
   "outputs": [
    {
     "data": {
      "application/vnd.jupyter.widget-view+json": {
       "model_id": "e956b60fbbb3444cb86f87556b8e8943",
       "version_major": 2,
       "version_minor": 0
      },
      "text/plain": [
       "Canvas(toolbar=Toolbar(toolitems=[('Home', 'Reset original view', 'home', 'home'), ('Back', 'Back to previous …"
      ]
     },
     "metadata": {},
     "output_type": "display_data"
    }
   ],
   "source": [
    "\n",
    "g = sns.catplot(x='distance', y='conditions_x', data=ins_dist, kind='boxen', height=8, orient='h')\n",
    "\n"
   ]
  },
  {
   "cell_type": "code",
   "execution_count": null,
   "id": "0963d081-bc6d-48e7-acb0-e732b89ee0fa",
   "metadata": {},
   "outputs": [],
   "source": []
  }
 ],
 "metadata": {
  "kernelspec": {
   "display_name": "Python (ds3)",
   "language": "python",
   "name": "ds3"
  },
  "language_info": {
   "codemirror_mode": {
    "name": "ipython",
    "version": 3
   },
   "file_extension": ".py",
   "mimetype": "text/x-python",
   "name": "python",
   "nbconvert_exporter": "python",
   "pygments_lexer": "ipython3",
   "version": "3.8.6"
  }
 },
 "nbformat": 4,
 "nbformat_minor": 5
}
