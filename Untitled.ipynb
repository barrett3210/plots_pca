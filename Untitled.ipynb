{
 "cells": [
  {
   "cell_type": "code",
   "execution_count": 1,
   "id": "cb6b4cf8-a6ad-4909-8d30-f0ff1e4231f5",
   "metadata": {},
   "outputs": [],
   "source": [
    "import pandas as pd\n",
    "import numpy as np\n",
    "import h5py\n",
    "import datetime\n",
    "import math\n",
    "import matplotlib.pyplot as plt\n",
    "from matplotlib.dates import DateFormatter\n",
    "import seaborn as sns\n",
    "from scipy.signal import savgol_filter\n",
    "plt.style.use('seaborn')\n",
    "%matplotlib widget\n",
    "from mpl_toolkits.mplot3d import Axes3D\n",
    "\n",
    "from sklearn.decomposition import PCA\n",
    "from sklearn.preprocessing import StandardScaler\n",
    "from sklearn.preprocessing import scale\n",
    "from sklearn import model_selection\n",
    "from sklearn import linear_model"
   ]
  },
  {
   "cell_type": "code",
   "execution_count": 15,
   "id": "135e70ca-ab0e-4dfa-923f-ebdf160133a3",
   "metadata": {},
   "outputs": [],
   "source": [
    "path_name = \"/Users/linda/OneDrive/Documents/S4_mine_p/Projects/Data_collected/\"\n",
    "file_name = \"210502_nirone_tests/nirone_testing_210502.h5\"\n",
    "file = path_name + '/' + file_name"
   ]
  },
  {
   "cell_type": "code",
   "execution_count": 14,
   "id": "5327eafc-3449-4031-9932-5cd67441b76a",
   "metadata": {},
   "outputs": [
    {
     "name": "stdout",
     "output_type": "stream",
     "text": [
      "<KeysViewHDF5 ['end_time', 'nirone_temp', 'start_time']>\n"
     ]
    }
   ],
   "source": [
    "with h5py.File(file, 'r') as h5_file:\n",
    "    print(h5_file['session001/cal002/ins015'].attrs.keys())"
   ]
  },
  {
   "cell_type": "code",
   "execution_count": 25,
   "id": "4ffd5c90-69d6-4f49-abae-7f681a2bbc08",
   "metadata": {},
   "outputs": [],
   "source": [
    "with h5py.File(file, 'r') as h5_file:\n",
    "    spectra = h5_file['session001/cal002/ins015/spectrometer1/spectra'][:]\n",
    "    waves = h5_file['session001/cal002'].attrs['spec1_wavelengths_vector'][:]\n",
    "    absorbances = h5_file['session001/cal002/ins015/spectrometer1/derived/absorbances'][:]\n",
    "    "
   ]
  },
  {
   "cell_type": "code",
   "execution_count": 26,
   "id": "bb21de1e-a5dd-49e4-bbcd-c729a4095663",
   "metadata": {},
   "outputs": [
    {
     "data": {
      "application/vnd.jupyter.widget-view+json": {
       "model_id": "909aa0a8beeb49248359ec1e7a6c80f0",
       "version_major": 2,
       "version_minor": 0
      },
      "text/plain": [
       "Canvas(toolbar=Toolbar(toolitems=[('Home', 'Reset original view', 'home', 'home'), ('Back', 'Back to previous …"
      ]
     },
     "metadata": {},
     "output_type": "display_data"
    }
   ],
   "source": [
    "fig, ax = plt.subplots()\n",
    "for i in range(absorbances.shape[0]):\n",
    "    \n",
    "    absorbance = absorbances[i, :]\n",
    "    ax.plot(waves, absorbance)\n",
    "plt.show()"
   ]
  },
  {
   "cell_type": "code",
   "execution_count": 23,
   "id": "d52fcce7-7865-4936-a7fe-2045ba283120",
   "metadata": {},
   "outputs": [],
   "source": [
    "with h5py.File(file, 'r') as h5_file:\n",
    "    spectra = h5_file['session001/cal002/ins001/spectrometer1/spectra'][:]\n",
    "    waves = h5_file['session001/cal002'].attrs['spec1_wavelengths_vector'][:]\n",
    "    absorbances = h5_file['session001/cal002/ins001/spectrometer1/derived/absorbances'][:]"
   ]
  },
  {
   "cell_type": "code",
   "execution_count": 24,
   "id": "dc6a1404-2b2f-4ded-88f1-dfbd5fc44fd4",
   "metadata": {},
   "outputs": [
    {
     "data": {
      "application/vnd.jupyter.widget-view+json": {
       "model_id": "80113551c88e49059b0f86720ee0fa3d",
       "version_major": 2,
       "version_minor": 0
      },
      "text/plain": [
       "Canvas(toolbar=Toolbar(toolitems=[('Home', 'Reset original view', 'home', 'home'), ('Back', 'Back to previous …"
      ]
     },
     "metadata": {},
     "output_type": "display_data"
    }
   ],
   "source": [
    "fig, ax = plt.subplots()\n",
    "for i in range(absorbances.shape[0]):    \n",
    "    absorbance = absorbances[i, :]\n",
    "    ax.plot(waves, absorbance)\n",
    "plt.show()"
   ]
  },
  {
   "cell_type": "code",
   "execution_count": null,
   "id": "a7be8f0f-20e5-4ac1-83a3-2ac86484f719",
   "metadata": {},
   "outputs": [],
   "source": []
  }
 ],
 "metadata": {
  "kernelspec": {
   "display_name": "Python (ds3)",
   "language": "python",
   "name": "ds3"
  },
  "language_info": {
   "codemirror_mode": {
    "name": "ipython",
    "version": 3
   },
   "file_extension": ".py",
   "mimetype": "text/x-python",
   "name": "python",
   "nbconvert_exporter": "python",
   "pygments_lexer": "ipython3",
   "version": "3.8.6"
  }
 },
 "nbformat": 4,
 "nbformat_minor": 5
}
