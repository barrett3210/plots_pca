{
 "cells": [
  {
   "cell_type": "code",
   "execution_count": 1,
   "id": "ac11c272-9ab8-4c20-83d4-3e52cf5aaf78",
   "metadata": {},
   "outputs": [],
   "source": [
    "import pandas as pd\n",
    "import numpy as np\n",
    "import h5py\n",
    "import datetime\n",
    "import math\n",
    "import matplotlib.pyplot as plt\n",
    "from matplotlib.dates import DateFormatter\n",
    "import seaborn as sns\n",
    "from scipy.signal import savgol_filter\n",
    "plt.style.use('seaborn')\n",
    "%matplotlib widget\n",
    "from mpl_toolkits.mplot3d import Axes3D\n",
    "\n",
    "from sklearn.decomposition import PCA\n",
    "from sklearn.preprocessing import StandardScaler\n",
    "from sklearn.preprocessing import scale\n",
    "from sklearn import model_selection\n",
    "from sklearn import linear_model"
   ]
  },
  {
   "cell_type": "code",
   "execution_count": 4,
   "id": "5d5b3e8d-d60a-46cf-9d16-8e8cc54a620a",
   "metadata": {},
   "outputs": [],
   "source": [
    "def get_calibration_temperature(file, calibration_path):\n",
    "    with h5py.File(file, 'r') as h5_file:\n",
    "        cal_temp = h5_file[calibration_path].attrs['ftir_temperature']\n",
    "        return cal_temp\n",
    "    \n",
    "def get_insertion_temperature(file, insertion_path):\n",
    "    with h5py.File(file, 'r') as h5_file:\n",
    "        ins_temp = h5_file[insertion_path].attrs['ftir_temp']\n",
    "        return ins_temp\n",
    "    \n",
    "def get_visible_white_calibration_curve(file, calibration_path):\n",
    "    with h5py.File(file, 'r') as h5_file:\n",
    "        cal = h5_file[calibration_path].attrs['white_spectrum'][:]\n",
    "        return cal\n",
    "    \n",
    "def get_ftir_white_calibration_curve(file, calibration_path):\n",
    "    with h5py.File(file, 'r') as h5_file:\n",
    "        cal = h5_file[calibration_path].attrs['white_spectrum2'][:]\n",
    "        return cal\n",
    "    \n",
    "def get_visible_wavelength_vector(file, calibration_path):\n",
    "    with h5py.File(file, 'r') as h5_file:\n",
    "        waves = h5_file[calibration_path].attrs['spec1_wavelengths_vector'][:]\n",
    "        return waves\n",
    "    \n",
    "def get_ftir_wavelength_vector(file, calibration_path):\n",
    "    with h5py.File(file, 'r') as h5_file:\n",
    "        waves = h5_file[calibration_path].attrs['spec2_wavelengths_vector'][:]\n",
    "        return waves\n",
    "    \n",
    "def get_ftir_insertion_absorbances(file, insertion_path):\n",
    "    with h5py.File(file, 'r') as h5_file:\n",
    "        ins_abs = h5_file[f'{insertion_path}/spectrometer2/derived/absorbances'][:]\n",
    "        return ins_abs\n",
    "    \n",
    "def get_ftir_insertion_raw_spectra(file, insertion_path):\n",
    "    with h5py.File(file, 'r') as h5_file:\n",
    "        ins_raw = h5_file[f'{insertion_path}/spectrometer2/spectra'][:]\n",
    "        return ins_raw\n",
    "    \n",
    "def get_ftir_insertion_timestamps(file, insertion_path):\n",
    "    with h5py.File(file, 'r') as h5_file:\n",
    "        timestamps = h5_file[f'{insertion_path}/spectrometer2/timestamps'][:]\n",
    "        return timestamps\n",
    "    \n",
    "def get_visible_insertion_timestamps(file, insertion_path):\n",
    "    with h5py.File(file, 'r') as h5_file:\n",
    "        timestamps = h5_file[f'{insertion_path}/spectrometer1/timestamps'][:]\n",
    "        return timestamps\n",
    "    \n",
    "def get_visible_insertion_absorbances(file, insertion_path):\n",
    "    with h5py.File(file, 'r') as h5_file:\n",
    "        ins_abs = h5_file[f'{insertion_path}/spectrometer1/derived/absorbances'][:]\n",
    "        return ins_abs\n",
    "    \n",
    "def get_visible_insertion_raw_spectra(file, insertion_path):\n",
    "    with h5py.File(file, 'r') as h5_file:\n",
    "        ins_raw = h5_file[f'{insertion_path}/spectrometer1/spectra'][:]\n",
    "        return ins_raw\n",
    "    \n",
    "def create_list_of_items_in_node(item_type, file, node):\n",
    "    with h5py.File(file, 'r') as h5_file:\n",
    "        keys = []\n",
    "        if item_type == \"group\":\n",
    "            my_type = h5py._hl.group.Group\n",
    "        if item_type == \"dataset\":\n",
    "            my_type = h5py._hl.dataset.Dataset\n",
    "        h5_file[node].visit(lambda key: keys.append(key) if type(h5_file[node][key]) is my_type else None)\n",
    "        return keys\n",
    "\n",
    "def create_list_of_calibrations_in_node(file, node):\n",
    "    calibrations = []\n",
    "    all_groups = create_list_of_items_in_node(\"group\", file, node)\n",
    "    for group in all_groups:\n",
    "        if group[-6:-3] == 'cal':\n",
    "            calibrations.append(node + '/' + group)\n",
    "    return calibrations\n",
    "\n",
    "def create_list_of_insertions_in_calibration(file, calibration_path):\n",
    "    with h5py.File(file, 'r') as h5_file:\n",
    "        insertion_keys = list(h5_file[calibration_path].keys())\n",
    "        insertions = [f'{calibration_path}/{key}' for key in insertion_keys]            \n",
    "        return insertions\n",
    "    \n",
    "def select_by_depth_range(df, range_start, range_end):\n",
    "    df_out = df.loc[(df['depth'] > range_start) & (df['depth'] < range_end)]\n",
    "    return df_out\n",
    "\n",
    "def calculate_absorbance_from_raw(raw_spectrum, white_spectrum, dark_spectrum):\n",
    "    reflectance = ((raw_spectrum - dark_spectrum) / (white_spectrum - dark_spectrum))\n",
    "    inverse_reflectance = 1/reflectance\n",
    "    absorbance = np.log10(inverse_reflectance.astype(np.float64))\n",
    "    return absorbance\n",
    "\n",
    "def calculate_absorbance_for_2D_array(array, white_spectrum, dark_spectrum):\n",
    "    absorbance_array = np.empty_like(array, dtype=np.float64)\n",
    "    for i in range(array.shape[0]):\n",
    "        absorbance_spectrum = calculate_absorbance_from_raw(array[i, :], white_spectrum, dark_spectrum)\n",
    "        absorbance_array[i, :] = absorbance_spectrum\n",
    "    return absorbance_array\n",
    "\n",
    "def construct_full_file_path(data_path, file_name):\n",
    "    file_path = data_path + file_name\n",
    "    return file_path\n",
    "\n",
    "def create_list_of_sessions_in_file(file_name):\n",
    "    sessions = []\n",
    "    all_groups = create_list_of_items_in_node(\"group\", file_name, \"/\")\n",
    "    for group in all_groups:\n",
    "        if (group[0:3] == 'ses') and (len(group) == 10):\n",
    "            sessions.append(group)\n",
    "    return sessions\n",
    "\n",
    "def create_list_of_insertions_in_file(file_name):\n",
    "    insertions = []\n",
    "    sessions = create_list_of_sessions_in_file(file_name)\n",
    "    for session in sessions:\n",
    "        calibrations = create_list_of_calibrations_in_node(file_name, session)\n",
    "        for calibration in calibrations:\n",
    "            cal_insertions = create_list_of_insertions_in_calibration(file_name, calibration)\n",
    "            for insertion in cal_insertions:\n",
    "                insertions.append(insertion)\n",
    "    return insertions\n",
    "            \n",
    "def get_insertion_timestamp(file, insertion_path):\n",
    "    with h5py.File(file, 'r') as h5_file:\n",
    "        ins_time = h5_file[insertion_path].attrs['start_time']\n",
    "        ins_timestamp = pd.Timestamp(ins_time, unit='us')\n",
    "        return ins_timestamp\n",
    "    \n",
    "def get_calibration_timestamp(file, calibration_path):\n",
    "    with h5py.File(file, 'r') as h5_file:\n",
    "        cal_time = h5_file[calibration_path].attrs['calibration_start_time']\n",
    "        cal_timestamp = pd.Timestamp(cal_time, unit='us')\n",
    "        return cal_timestamp  \n",
    "    \n",
    "def find_position_in_wavelength_vector(wavelength_vector, integer):\n",
    "    position = np.where(np.isclose(wavelength_vector, integer, 1e-3))[0][0]\n",
    "    return position\n",
    "\n",
    "def normalize(value, max_value, min_value):\n",
    "    normalized_value = (value - min_value)/(max_value - min_value)\n",
    "    return normalized_value\n",
    "\n",
    "def get_ftir_dark_calibration_curve(file, calibration_path):\n",
    "    with h5py.File(file, 'r') as h5_file:\n",
    "        cal = h5_file[calibration_path].attrs['dark_spectrum2'][:]\n",
    "        return cal\n",
    "    \n",
    "def get_visible_dark_calibration_curve(file, calibration_path):\n",
    "    with h5py.File(file, 'r') as h5_file:\n",
    "        cal = h5_file[calibration_path].attrs['dark_spectrum'][:]\n",
    "        return cal\n",
    "        \n",
    "def get_ftir_spectrum_timestamp(file, insertion_path, index):\n",
    "    with h5py.File(file, 'r') as h5_file:\n",
    "        time = h5_file[f'{insertion_path}/spectrometer2/timestamps'][index]\n",
    "        timestamp = pd.Timestamp(time, unit='us')\n",
    "        return timestamp\n",
    "    \n",
    "def get_visible_spectrum_timestamp(file, insertion_path, index):\n",
    "    with h5py.File(file, 'r') as h5_file:\n",
    "        time = h5_file[f'{insertion_path}/spectrometer1/timestamps'][index]\n",
    "        timestamp = pd.Timestamp(time, unit='us')\n",
    "        return timestamp\n",
    "    \n",
    "def compute_3D_distance(x1, y1, z1, x2, y2, z2):\n",
    "    distance = math.sqrt((x1 - x2)**2 + (y1 - y2)**2 + (z1 - z2)**2)\n",
    "    return distance"
   ]
  },
  {
   "cell_type": "code",
   "execution_count": 15,
   "id": "e1873500-25fa-4c94-a0d9-e99f17ca117a",
   "metadata": {},
   "outputs": [
    {
     "name": "stdout",
     "output_type": "stream",
     "text": [
      "(17880, 8)\n",
      "(17880, 1)\n",
      "(17880, 512)\n",
      "(17880, 521)\n"
     ]
    }
   ],
   "source": [
    "path_name = \"/Users/linda/OneDrive/Documents/S4_mine_p/Projects/Data_collected/\"\n",
    "df = pd.read_csv('data/white_insertions.csv')\n",
    "df_columns = list(df.columns.values)\n",
    "df_columns.append('cal_time_0')\n",
    "df_columns.append('temperature')\n",
    "info_df = pd.DataFrame(columns=df_columns)\n",
    "timestamps_df = pd.DataFrame(columns=['timestamp'])\n",
    "columns = np.arange(0, 512, 1)\n",
    "spectra = pd.DataFrame(columns=columns)\n",
    "# each i represents an insertion\n",
    "for i in range(df.shape[0]):\n",
    "    row_file = df['file_name'][i]\n",
    "    file = construct_full_file_path(path_name, row_file)\n",
    "    calibration_path = df['session'][i] + \"/\" + df['calibration'][i]\n",
    "    calibration_insertions = create_list_of_insertions_in_calibration(file, calibration_path)    \n",
    "    calibration_first_timestamp = get_visible_spectrum_timestamp(file, calibration_insertions[0], 0)\n",
    "    insertion_path = calibration_path + \"/\" + df['insertion'][i]\n",
    "    insertion_temperature = get_insertion_temperature(file, insertion_path)\n",
    "     \n",
    "    # raw_spectra and timestamps have many spectra and timestamps per insertion\n",
    "    raw_spectra = pd.DataFrame(get_visible_insertion_raw_spectra(file, insertion_path))    \n",
    "    spectra = pd.concat([spectra, raw_spectra], axis=0, ignore_index=True)\n",
    "    ts_array = get_visible_insertion_timestamps(file, insertion_path)\n",
    "    timestamps = pd.DataFrame(pd.to_datetime(ts_array, unit='us'), columns=['timestamp'])\n",
    "    timestamps_df = pd.concat([timestamps_df, timestamps], axis=0, ignore_index=True)\n",
    "    # info and temperature will be the same for every spectrum in insertion\n",
    "    info_row = df.iloc[i:i+1, :].copy()\n",
    "    info_row['cal_time_0'] = calibration_first_timestamp\n",
    "    info_row['temperature'] = insertion_temperature\n",
    "    # each j represents a spectrum; the info is duplicated for each spectrum\n",
    "    for j in range(raw_spectra.shape[0]):\n",
    "        info_df = pd.concat([info_df, info_row], axis=0, ignore_index=True)\n",
    "\n",
    "print(info_df.shape)\n",
    "print(timestamps_df.shape)\n",
    "print(spectra.shape)\n",
    "spectra_df = pd.concat([info_df, timestamps_df, spectra], axis=1)\n",
    "print(spectra_df.shape)"
   ]
  },
  {
   "cell_type": "code",
   "execution_count": 20,
   "id": "d7f7a3e6-1e70-480d-b672-1a82ff225be6",
   "metadata": {},
   "outputs": [
    {
     "data": {
      "text/plain": [
       "(17880, 400)"
      ]
     },
     "execution_count": 20,
     "metadata": {},
     "output_type": "execute_result"
    }
   ],
   "source": [
    "# create the input data for the PCA.  Restricting the wavelengths to 1200 to 2200 nm\n",
    "# savgol filter is applied before creating X\n",
    "waves = get_visible_wavelength_vector(file, calibration_path)\n",
    "start_index = find_position_in_wavelength_vector(waves, 500)\n",
    "end_index = find_position_in_wavelength_vector(waves, 1000)\n",
    "X = savgol_filter(spectra_df.iloc[:, (start_index + 9):(end_index + 10)], 21, 3, axis=1)\n",
    "X.shape"
   ]
  },
  {
   "cell_type": "code",
   "execution_count": 21,
   "id": "104140fb-fe88-4bbd-9274-d26f4d95df8f",
   "metadata": {},
   "outputs": [],
   "source": [
    "# do the PCA\n",
    "pca = PCA(n_components=10)\n",
    "X_pca = pca.fit_transform(StandardScaler().fit_transform(X))"
   ]
  },
  {
   "cell_type": "code",
   "execution_count": 22,
   "id": "c9a5c20f-1dd8-4109-9025-cedb482a8434",
   "metadata": {},
   "outputs": [
    {
     "data": {
      "text/plain": [
       "array([0.81609008, 0.88951504, 0.93799813, 0.9712531 , 0.98580507,\n",
       "       0.99236722, 0.99555232, 0.99620729, 0.99664186, 0.99688567])"
      ]
     },
     "execution_count": 22,
     "metadata": {},
     "output_type": "execute_result"
    }
   ],
   "source": [
    "# The amount of variation explained per component\n",
    "np.cumsum(pca.explained_variance_ratio_)"
   ]
  },
  {
   "cell_type": "code",
   "execution_count": 23,
   "id": "623752de-2b4f-4e24-8cab-9ba0884e9a46",
   "metadata": {},
   "outputs": [
    {
     "data": {
      "application/vnd.jupyter.widget-view+json": {
       "model_id": "5515b5deee7e4a77833726e7d524879f",
       "version_major": 2,
       "version_minor": 0
      },
      "text/plain": [
       "Canvas(toolbar=Toolbar(toolitems=[('Home', 'Reset original view', 'home', 'home'), ('Back', 'Back to previous …"
      ]
     },
     "metadata": {},
     "output_type": "display_data"
    }
   ],
   "source": [
    "fig, ax = plt.subplots()\n",
    "ax.plot(np.cumsum(pca.explained_variance_ratio_[:10]));"
   ]
  },
  {
   "cell_type": "code",
   "execution_count": 24,
   "id": "97198f69-f1f8-4f4c-94dd-a04cb073fc64",
   "metadata": {},
   "outputs": [],
   "source": [
    "# Turn the components into a dataframe\n",
    "X_pca_df = pd.DataFrame(X_pca)"
   ]
  },
  {
   "cell_type": "code",
   "execution_count": 25,
   "id": "ee539fb7-7d71-47c7-aa54-f7cbe32dc924",
   "metadata": {},
   "outputs": [
    {
     "data": {
      "application/vnd.jupyter.widget-view+json": {
       "model_id": "91edff790bc84e5cb2866d947ccbab51",
       "version_major": 2,
       "version_minor": 0
      },
      "text/plain": [
       "Canvas(toolbar=Toolbar(toolitems=[('Home', 'Reset original view', 'home', 'home'), ('Back', 'Back to previous …"
      ]
     },
     "metadata": {},
     "output_type": "display_data"
    }
   ],
   "source": [
    "# Plot of PC1 by PC2\n",
    "fig, ax = plt.subplots(figsize=(10,10))\n",
    "ax.set_xlim(-23, 23)\n",
    "ax.set_ylim(-23, 23)\n",
    "sns.scatterplot(x=X_pca_df[0], y=X_pca_df[1], hue=spectra_df['conditions'], alpha=0.2, size=2.0, palette='gist_ncar')\n",
    "plt.xlabel(\"PC1\")\n",
    "plt.ylabel(\"PC2\");"
   ]
  },
  {
   "cell_type": "code",
   "execution_count": 26,
   "id": "3807a82f-05b3-46d4-a02c-f376a39e26b4",
   "metadata": {},
   "outputs": [
    {
     "data": {
      "application/vnd.jupyter.widget-view+json": {
       "model_id": "96789aaa56084b2c8db83cb0b18aa832",
       "version_major": 2,
       "version_minor": 0
      },
      "text/plain": [
       "Canvas(toolbar=Toolbar(toolitems=[('Home', 'Reset original view', 'home', 'home'), ('Back', 'Back to previous …"
      ]
     },
     "metadata": {},
     "output_type": "display_data"
    }
   ],
   "source": [
    "selected = X_pca_df.loc[(spectra_df['conditions'] == 'sunshine')|(spectra_df['conditions'] == 'inside')]\n",
    "selected_conditions = spectra_df.loc[(spectra_df['conditions'] == 'sunshine')|(spectra_df['conditions'] == 'inside')]\n",
    "\n",
    "\n",
    "fig, ax = plt.subplots(figsize=(10,10))\n",
    "ax.set_xlim(-23, 23)\n",
    "ax.set_ylim(-23, 23)\n",
    "\n",
    "sns.scatterplot(x=selected[0], y=selected[1], hue=selected_conditions['conditions'], alpha=0.2, size=selected_conditions['temperature'], palette='gist_ncar');"
   ]
  },
  {
   "cell_type": "code",
   "execution_count": 28,
   "id": "7ddcaa74-cc77-40ed-a706-7609c176c7aa",
   "metadata": {},
   "outputs": [
    {
     "data": {
      "application/vnd.jupyter.widget-view+json": {
       "model_id": "2bde191ed18248ba8a5861bec04d724d",
       "version_major": 2,
       "version_minor": 0
      },
      "text/plain": [
       "Canvas(toolbar=Toolbar(toolitems=[('Home', 'Reset original view', 'home', 'home'), ('Back', 'Back to previous …"
      ]
     },
     "metadata": {},
     "output_type": "display_data"
    }
   ],
   "source": [
    "selected = X_pca_df.loc[(spectra_df['conditions'] == 'heat spectrometer')|(spectra_df['conditions'] == 'cool spectrometer')]\n",
    "selected_conditions = spectra_df.loc[(spectra_df['conditions'] == 'heat spectrometer')|(spectra_df['conditions'] == 'cool spectrometer')]\n",
    "\n",
    "\n",
    "fig, ax = plt.subplots(figsize=(10,10))\n",
    "\n",
    "\n",
    "sns.scatterplot(x=selected[0], y=selected[1], hue=selected_conditions['conditions'], alpha=0.2, size=selected_conditions['temperature'], palette='gist_ncar');"
   ]
  },
  {
   "cell_type": "code",
   "execution_count": 29,
   "id": "a8e8d043-6296-4911-a14e-d1a0ad038895",
   "metadata": {},
   "outputs": [
    {
     "data": {
      "application/vnd.jupyter.widget-view+json": {
       "model_id": "77527028a3f04476977436f25d62736c",
       "version_major": 2,
       "version_minor": 0
      },
      "text/plain": [
       "Canvas(toolbar=Toolbar(toolitems=[('Home', 'Reset original view', 'home', 'home'), ('Back', 'Back to previous …"
      ]
     },
     "metadata": {},
     "output_type": "display_data"
    }
   ],
   "source": [
    "selected1 = X_pca_df.loc[(spectra_df['conditions'] == 'heat spectrometer')]\n",
    "selected2 = X_pca_df.loc[(spectra_df['conditions'] == 'cool spectrometer')]\n",
    "selected3 = X_pca_df.loc[(spectra_df['conditions'] == 'heat light source')]\n",
    "fig = plt.figure(figsize=(10, 10))\n",
    "ax = fig.add_subplot(111, projection = \"3d\")\n",
    "ax.set_xlabel(\"PC1\")\n",
    "ax.set_ylabel(\"PC2\")\n",
    "ax.set_zlabel(\"PC3\")\n",
    "ax.scatter(xs = selected1[0], ys=selected1[1], zs=selected1[2], color='tab:blue', alpha=0.2)\n",
    "ax.scatter(xs = selected2[0], ys=selected2[1], zs=selected2[2], color='tab:orange', alpha=0.2)\n",
    "ax.scatter(xs = selected3[0], ys=selected3[1], zs=selected3[2], color='tab:green', alpha=0.2);"
   ]
  },
  {
   "cell_type": "code",
   "execution_count": 30,
   "id": "0ed5cdbb-106d-4463-9be9-806e7f96ed07",
   "metadata": {},
   "outputs": [
    {
     "data": {
      "application/vnd.jupyter.widget-view+json": {
       "model_id": "2c87d0f8885b40a68a8a72af55db248f",
       "version_major": 2,
       "version_minor": 0
      },
      "text/plain": [
       "Canvas(toolbar=Toolbar(toolitems=[('Home', 'Reset original view', 'home', 'home'), ('Back', 'Back to previous …"
      ]
     },
     "metadata": {},
     "output_type": "display_data"
    },
    {
     "data": {
      "text/plain": [
       "<AxesSubplot:xlabel='0', ylabel='temperature'>"
      ]
     },
     "execution_count": 30,
     "metadata": {},
     "output_type": "execute_result"
    }
   ],
   "source": [
    "fig, ax = plt.subplots()\n",
    "sns.scatterplot(x=X_pca_df[0], y=spectra_df['temperature'], alpha=0.2)"
   ]
  },
  {
   "cell_type": "code",
   "execution_count": null,
   "id": "2ca9e717-2be7-4178-bcd8-356e011d67a6",
   "metadata": {},
   "outputs": [],
   "source": []
  }
 ],
 "metadata": {
  "kernelspec": {
   "display_name": "Python (ds3)",
   "language": "python",
   "name": "ds3"
  },
  "language_info": {
   "codemirror_mode": {
    "name": "ipython",
    "version": 3
   },
   "file_extension": ".py",
   "mimetype": "text/x-python",
   "name": "python",
   "nbconvert_exporter": "python",
   "pygments_lexer": "ipython3",
   "version": "3.8.6"
  }
 },
 "nbformat": 4,
 "nbformat_minor": 5
}
